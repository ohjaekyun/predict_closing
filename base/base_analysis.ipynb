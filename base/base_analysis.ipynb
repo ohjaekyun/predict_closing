{
  "cells": [
    {
      "cell_type": "markdown",
      "metadata": {
        "id": "6g6lYWAUayvS"
      },
      "source": [
        "**재무데이터 활용 최종등급 예측 모델링**"
      ]
    },
    {
      "cell_type": "markdown",
      "metadata": {
        "id": "MOqr4BaebCeb"
      },
      "source": [
        "\n",
        "\n",
        "1.   라이브러리 및 데이터 불러오기\n",
        "\n"
      ]
    },
    {
      "cell_type": "code",
      "execution_count": 2,
      "metadata": {},
      "outputs": [
        {
          "name": "stdout",
          "output_type": "stream",
          "text": [
            "Collecting matplotlib\n",
            "  Using cached matplotlib-3.6.1-cp310-cp310-macosx_10_12_x86_64.whl (7.3 MB)\n",
            "Collecting contourpy>=1.0.1\n",
            "  Using cached contourpy-1.0.6-cp310-cp310-macosx_10_9_x86_64.whl (240 kB)\n",
            "Requirement already satisfied: python-dateutil>=2.7 in /Users/jaegyoonoh/.pyenv/versions/3.10.1/lib/python3.10/site-packages (from matplotlib) (2.8.2)\n",
            "Collecting kiwisolver>=1.0.1\n",
            "  Using cached kiwisolver-1.4.4-cp310-cp310-macosx_10_9_x86_64.whl (65 kB)\n",
            "Collecting cycler>=0.10\n",
            "  Using cached cycler-0.11.0-py3-none-any.whl (6.4 kB)\n",
            "Requirement already satisfied: packaging>=20.0 in /Users/jaegyoonoh/.pyenv/versions/3.10.1/lib/python3.10/site-packages (from matplotlib) (21.3)\n",
            "Collecting pillow>=6.2.0\n",
            "  Downloading Pillow-9.3.0-cp310-cp310-macosx_10_10_x86_64.whl (3.3 MB)\n",
            "\u001b[K     |████████████████████████████████| 3.3 MB 9.1 MB/s eta 0:00:01\n",
            "\u001b[?25hCollecting fonttools>=4.22.0\n",
            "  Downloading fonttools-4.38.0-py3-none-any.whl (965 kB)\n",
            "\u001b[K     |████████████████████████████████| 965 kB 105.9 MB/s eta 0:00:01\n",
            "\u001b[?25hRequirement already satisfied: pyparsing>=2.2.1 in /Users/jaegyoonoh/.pyenv/versions/3.10.1/lib/python3.10/site-packages (from matplotlib) (3.0.9)\n",
            "Requirement already satisfied: numpy>=1.19 in /Users/jaegyoonoh/.pyenv/versions/3.10.1/lib/python3.10/site-packages (from matplotlib) (1.23.3)\n",
            "Requirement already satisfied: six>=1.5 in /Users/jaegyoonoh/.pyenv/versions/3.10.1/lib/python3.10/site-packages (from python-dateutil>=2.7->matplotlib) (1.16.0)\n",
            "Installing collected packages: pillow, kiwisolver, fonttools, cycler, contourpy, matplotlib\n",
            "Successfully installed contourpy-1.0.6 cycler-0.11.0 fonttools-4.38.0 kiwisolver-1.4.4 matplotlib-3.6.1 pillow-9.3.0\n",
            "\u001b[33mWARNING: You are using pip version 21.2.4; however, version 22.3 is available.\n",
            "You should consider upgrading via the '/Users/jaegyoonoh/.pyenv/versions/3.10.1/bin/python3.10 -m pip install --upgrade pip' command.\u001b[0m\n"
          ]
        }
      ],
      "source": [
        "!pip install matplotlib"
      ]
    },
    {
      "cell_type": "code",
      "execution_count": 3,
      "metadata": {},
      "outputs": [
        {
          "name": "stdout",
          "output_type": "stream",
          "text": [
            "Collecting scikit-learn\n",
            "  Using cached scikit_learn-1.1.3-cp310-cp310-macosx_10_9_x86_64.whl (8.7 MB)\n",
            "Collecting scipy>=1.3.2\n",
            "  Using cached scipy-1.9.3-cp310-cp310-macosx_10_9_x86_64.whl (34.3 MB)\n",
            "Collecting joblib>=1.0.0\n",
            "  Using cached joblib-1.2.0-py3-none-any.whl (297 kB)\n",
            "Collecting threadpoolctl>=2.0.0\n",
            "  Using cached threadpoolctl-3.1.0-py3-none-any.whl (14 kB)\n",
            "Requirement already satisfied: numpy>=1.17.3 in /Users/jaegyoonoh/.pyenv/versions/3.10.1/lib/python3.10/site-packages (from scikit-learn) (1.23.3)\n",
            "Installing collected packages: threadpoolctl, scipy, joblib, scikit-learn\n",
            "Successfully installed joblib-1.2.0 scikit-learn-1.1.3 scipy-1.9.3 threadpoolctl-3.1.0\n",
            "\u001b[33mWARNING: You are using pip version 21.2.4; however, version 22.3 is available.\n",
            "You should consider upgrading via the '/Users/jaegyoonoh/.pyenv/versions/3.10.1/bin/python3.10 -m pip install --upgrade pip' command.\u001b[0m\n"
          ]
        }
      ],
      "source": [
        "!pip install -U scikit-learn"
      ]
    },
    {
      "cell_type": "code",
      "execution_count": 59,
      "metadata": {
        "id": "nezoEqLZ_oHu"
      },
      "outputs": [],
      "source": [
        "import pandas as pd\n",
        "import numpy as np\n",
        "import matplotlib.pyplot as plt\n",
        "\n",
        "from sklearn.linear_model import LogisticRegression\n",
        "from sklearn.ensemble import RandomForestClassifier\n",
        "from sklearn.model_selection import train_test_split\n",
        "from sklearn.metrics import accuracy_score, roc_auc_score"
      ]
    },
    {
      "cell_type": "code",
      "execution_count": 6,
      "metadata": {
        "id": "O4QhSNawAGfM"
      },
      "outputs": [],
      "source": [
        "#df=pd.read_csv('/content/sampling.csv',sep=\",\")\n",
        "df=pd.read_csv('../data/financial_data.csv')"
      ]
    },
    {
      "cell_type": "markdown",
      "metadata": {
        "id": "yXEx-gw7bqOe"
      },
      "source": [
        "\n",
        "2.   데이터 EDA 및 전처리\n",
        "\n",
        "\n",
        "\n"
      ]
    },
    {
      "cell_type": "code",
      "execution_count": 7,
      "metadata": {
        "colab": {
          "base_uri": "https://localhost:8080/",
          "height": 206
        },
        "id": "WzxCkz9mAG7t",
        "outputId": "aa3af89b-4d1b-49a7-9b28-57a458b2cf4f"
      },
      "outputs": [
        {
          "data": {
            "text/html": [
              "<div>\n",
              "<style scoped>\n",
              "    .dataframe tbody tr th:only-of-type {\n",
              "        vertical-align: middle;\n",
              "    }\n",
              "\n",
              "    .dataframe tbody tr th {\n",
              "        vertical-align: top;\n",
              "    }\n",
              "\n",
              "    .dataframe thead th {\n",
              "        text-align: right;\n",
              "    }\n",
              "</style>\n",
              "<table border=\"1\" class=\"dataframe\">\n",
              "  <thead>\n",
              "    <tr style=\"text-align: right;\">\n",
              "      <th></th>\n",
              "      <th>BIZ_NO</th>\n",
              "      <th>STT_YR_MO</th>\n",
              "      <th>M11000</th>\n",
              "      <th>M11130</th>\n",
              "      <th>M12000</th>\n",
              "      <th>M12300</th>\n",
              "      <th>M14900</th>\n",
              "      <th>M15000</th>\n",
              "      <th>M16000</th>\n",
              "      <th>M19900-M19800</th>\n",
              "      <th>...</th>\n",
              "      <th>MC2200</th>\n",
              "      <th>MC3100</th>\n",
              "      <th>MD1100</th>\n",
              "      <th>MD1800</th>\n",
              "      <th>MD2300</th>\n",
              "      <th>MD2400</th>\n",
              "      <th>M11150</th>\n",
              "      <th>M22000</th>\n",
              "      <th>M12500</th>\n",
              "      <th>M11500</th>\n",
              "    </tr>\n",
              "  </thead>\n",
              "  <tbody>\n",
              "    <tr>\n",
              "      <th>0</th>\n",
              "      <td>1018100340</td>\n",
              "      <td>20181231</td>\n",
              "      <td>2667731.0</td>\n",
              "      <td>127320.0</td>\n",
              "      <td>32346444.0</td>\n",
              "      <td>1179096.0</td>\n",
              "      <td>35014174.0</td>\n",
              "      <td>422872.0</td>\n",
              "      <td>16176067.0</td>\n",
              "      <td>16598939.0</td>\n",
              "      <td>...</td>\n",
              "      <td>87.841</td>\n",
              "      <td>250.381</td>\n",
              "      <td>0.163</td>\n",
              "      <td>1.000000e+12</td>\n",
              "      <td>44.062</td>\n",
              "      <td>1.000000e+12</td>\n",
              "      <td>NaN</td>\n",
              "      <td>NaN</td>\n",
              "      <td>NaN</td>\n",
              "      <td>NaN</td>\n",
              "    </tr>\n",
              "    <tr>\n",
              "      <th>1</th>\n",
              "      <td>1018100340</td>\n",
              "      <td>20191231</td>\n",
              "      <td>2168837.0</td>\n",
              "      <td>94085.0</td>\n",
              "      <td>34151633.0</td>\n",
              "      <td>1209369.0</td>\n",
              "      <td>36320470.0</td>\n",
              "      <td>10553878.0</td>\n",
              "      <td>5240445.0</td>\n",
              "      <td>15794323.0</td>\n",
              "      <td>...</td>\n",
              "      <td>25.500</td>\n",
              "      <td>241.400</td>\n",
              "      <td>0.184</td>\n",
              "      <td>1.000000e+12</td>\n",
              "      <td>59.092</td>\n",
              "      <td>NaN</td>\n",
              "      <td>NaN</td>\n",
              "      <td>NaN</td>\n",
              "      <td>NaN</td>\n",
              "      <td>NaN</td>\n",
              "    </tr>\n",
              "    <tr>\n",
              "      <th>2</th>\n",
              "      <td>1018100340</td>\n",
              "      <td>20201231</td>\n",
              "      <td>2272260.0</td>\n",
              "      <td>78612.0</td>\n",
              "      <td>38329680.0</td>\n",
              "      <td>1091153.0</td>\n",
              "      <td>40601940.0</td>\n",
              "      <td>863144.0</td>\n",
              "      <td>15496117.0</td>\n",
              "      <td>16359261.0</td>\n",
              "      <td>...</td>\n",
              "      <td>63.921</td>\n",
              "      <td>275.719</td>\n",
              "      <td>0.154</td>\n",
              "      <td>1.000000e+12</td>\n",
              "      <td>68.714</td>\n",
              "      <td>1.000000e+12</td>\n",
              "      <td>NaN</td>\n",
              "      <td>NaN</td>\n",
              "      <td>NaN</td>\n",
              "      <td>NaN</td>\n",
              "    </tr>\n",
              "    <tr>\n",
              "      <th>3</th>\n",
              "      <td>1018100340</td>\n",
              "      <td>20211231</td>\n",
              "      <td>1175030.0</td>\n",
              "      <td>273522.0</td>\n",
              "      <td>37135811.0</td>\n",
              "      <td>993025.0</td>\n",
              "      <td>38310842.0</td>\n",
              "      <td>9494272.0</td>\n",
              "      <td>4901383.0</td>\n",
              "      <td>14395654.0</td>\n",
              "      <td>...</td>\n",
              "      <td>20.495</td>\n",
              "      <td>233.749</td>\n",
              "      <td>0.156</td>\n",
              "      <td>1.000000e+12</td>\n",
              "      <td>34.979</td>\n",
              "      <td>1.000000e+12</td>\n",
              "      <td>3243.0</td>\n",
              "      <td>NaN</td>\n",
              "      <td>NaN</td>\n",
              "      <td>NaN</td>\n",
              "    </tr>\n",
              "    <tr>\n",
              "      <th>4</th>\n",
              "      <td>1018100772</td>\n",
              "      <td>20181231</td>\n",
              "      <td>422146.0</td>\n",
              "      <td>17011.0</td>\n",
              "      <td>20370096.0</td>\n",
              "      <td>20352846.0</td>\n",
              "      <td>20792242.0</td>\n",
              "      <td>2684934.0</td>\n",
              "      <td>11404637.0</td>\n",
              "      <td>14089571.0</td>\n",
              "      <td>...</td>\n",
              "      <td>170.151</td>\n",
              "      <td>1250.082</td>\n",
              "      <td>0.055</td>\n",
              "      <td>1.000000e+12</td>\n",
              "      <td>69.711</td>\n",
              "      <td>1.000000e+12</td>\n",
              "      <td>386880.0</td>\n",
              "      <td>524746.0</td>\n",
              "      <td>NaN</td>\n",
              "      <td>NaN</td>\n",
              "    </tr>\n",
              "  </tbody>\n",
              "</table>\n",
              "<p>5 rows × 46 columns</p>\n",
              "</div>"
            ],
            "text/plain": [
              "       BIZ_NO  STT_YR_MO     M11000    M11130      M12000      M12300  \\\n",
              "0  1018100340   20181231  2667731.0  127320.0  32346444.0   1179096.0   \n",
              "1  1018100340   20191231  2168837.0   94085.0  34151633.0   1209369.0   \n",
              "2  1018100340   20201231  2272260.0   78612.0  38329680.0   1091153.0   \n",
              "3  1018100340   20211231  1175030.0  273522.0  37135811.0    993025.0   \n",
              "4  1018100772   20181231   422146.0   17011.0  20370096.0  20352846.0   \n",
              "\n",
              "       M14900      M15000      M16000  M19900-M19800  ...   MC2200    MC3100  \\\n",
              "0  35014174.0    422872.0  16176067.0     16598939.0  ...   87.841   250.381   \n",
              "1  36320470.0  10553878.0   5240445.0     15794323.0  ...   25.500   241.400   \n",
              "2  40601940.0    863144.0  15496117.0     16359261.0  ...   63.921   275.719   \n",
              "3  38310842.0   9494272.0   4901383.0     14395654.0  ...   20.495   233.749   \n",
              "4  20792242.0   2684934.0  11404637.0     14089571.0  ...  170.151  1250.082   \n",
              "\n",
              "   MD1100        MD1800  MD2300        MD2400    M11150    M22000  M12500  \\\n",
              "0   0.163  1.000000e+12  44.062  1.000000e+12       NaN       NaN     NaN   \n",
              "1   0.184  1.000000e+12  59.092           NaN       NaN       NaN     NaN   \n",
              "2   0.154  1.000000e+12  68.714  1.000000e+12       NaN       NaN     NaN   \n",
              "3   0.156  1.000000e+12  34.979  1.000000e+12    3243.0       NaN     NaN   \n",
              "4   0.055  1.000000e+12  69.711  1.000000e+12  386880.0  524746.0     NaN   \n",
              "\n",
              "   M11500  \n",
              "0     NaN  \n",
              "1     NaN  \n",
              "2     NaN  \n",
              "3     NaN  \n",
              "4     NaN  \n",
              "\n",
              "[5 rows x 46 columns]"
            ]
          },
          "execution_count": 7,
          "metadata": {},
          "output_type": "execute_result"
        }
      ],
      "source": [
        "df.head()"
      ]
    },
    {
      "cell_type": "code",
      "execution_count": 8,
      "metadata": {
        "colab": {
          "base_uri": "https://localhost:8080/"
        },
        "id": "Q_a82pR_HJO3",
        "outputId": "c4f83b4e-dd31-49b8-e330-1a8d6c80c91f"
      },
      "outputs": [
        {
          "data": {
            "text/plain": [
              "(109142, 46)"
            ]
          },
          "execution_count": 8,
          "metadata": {},
          "output_type": "execute_result"
        }
      ],
      "source": [
        "df.shape"
      ]
    },
    {
      "cell_type": "code",
      "execution_count": 25,
      "metadata": {},
      "outputs": [],
      "source": [
        "df1 = df.copy()"
      ]
    },
    {
      "cell_type": "code",
      "execution_count": 26,
      "metadata": {},
      "outputs": [],
      "source": [
        "df_closed = pd.read_csv('../data/closed_company_summary.csv')"
      ]
    },
    {
      "cell_type": "code",
      "execution_count": 27,
      "metadata": {},
      "outputs": [
        {
          "name": "stderr",
          "output_type": "stream",
          "text": [
            "/var/folders/w5/9_lbs3zn75j3rp12lcj63_6c0000gn/T/ipykernel_81135/784211479.py:2: SettingWithCopyWarning: \n",
            "A value is trying to be set on a copy of a slice from a DataFrame.\n",
            "Try using .loc[row_indexer,col_indexer] = value instead\n",
            "\n",
            "See the caveats in the documentation: https://pandas.pydata.org/pandas-docs/stable/user_guide/indexing.html#returning-a-view-versus-a-copy\n",
            "  df_closed_filtered['LABEL'] = df_closed_filtered['label']\n"
          ]
        }
      ],
      "source": [
        "df_closed_filtered = df_closed[['BIZ_NO', 'label']]\n",
        "df_closed_filtered['LABEL'] = df_closed_filtered['label']\n",
        "df_closed_filtered = df_closed_filtered.drop(columns=['label'])"
      ]
    },
    {
      "cell_type": "code",
      "execution_count": 32,
      "metadata": {},
      "outputs": [],
      "source": [
        "df2 = df1.merge(df_closed_filtered, how='left', on='BIZ_NO')"
      ]
    },
    {
      "cell_type": "code",
      "execution_count": 45,
      "metadata": {},
      "outputs": [],
      "source": [
        "indices = list(df2[df2['LABEL'] != 1].index)"
      ]
    },
    {
      "cell_type": "code",
      "execution_count": 46,
      "metadata": {},
      "outputs": [],
      "source": [
        "df2.loc[indices, 'LABEL'] = 0"
      ]
    },
    {
      "cell_type": "code",
      "execution_count": 47,
      "metadata": {},
      "outputs": [
        {
          "data": {
            "text/plain": [
              "0.0    98905\n",
              "1.0    10237\n",
              "Name: LABEL, dtype: int64"
            ]
          },
          "execution_count": 47,
          "metadata": {},
          "output_type": "execute_result"
        }
      ],
      "source": [
        "df2.LABEL.value_counts()"
      ]
    },
    {
      "cell_type": "code",
      "execution_count": 48,
      "metadata": {
        "id": "2icjoSfxc1pd"
      },
      "outputs": [],
      "source": [
        "# 결측치 제거 \n",
        "df2=df2.dropna()"
      ]
    },
    {
      "cell_type": "code",
      "execution_count": 11,
      "metadata": {
        "colab": {
          "base_uri": "https://localhost:8080/"
        },
        "id": "XYVZNQu7Xzb_",
        "outputId": "96ac047b-64d1-4b75-fc33-ee7efe9e1324"
      },
      "outputs": [
        {
          "data": {
            "text/plain": [
              "BIZ_NO           0\n",
              "STT_YR_MO        0\n",
              "M11000           0\n",
              "M11130           0\n",
              "M12000           0\n",
              "M12300           0\n",
              "M14900           0\n",
              "M15000           0\n",
              "M16000           0\n",
              "M19900-M19800    0\n",
              "M71000           0\n",
              "M75000           0\n",
              "M19800           0\n",
              "M21000           0\n",
              "M24000           0\n",
              "M25000           0\n",
              "M29000           0\n",
              "M29500           0\n",
              "M29900           0\n",
              "MB1500           0\n",
              "MB2700           0\n",
              "MB2800           0\n",
              "MB3100           0\n",
              "MB3200           0\n",
              "MB3400           0\n",
              "MB3500           0\n",
              "MB3510           0\n",
              "MB3600           0\n",
              "MB4200           0\n",
              "MB5200           0\n",
              "MB5300           0\n",
              "MC1600           0\n",
              "MC1700           0\n",
              "MC1800           0\n",
              "MC1900           0\n",
              "MC2100           0\n",
              "MC2200           0\n",
              "MC3100           0\n",
              "MD1100           0\n",
              "MD1800           0\n",
              "MD2300           0\n",
              "MD2400           0\n",
              "M11150           0\n",
              "M22000           0\n",
              "M12500           0\n",
              "M11500           0\n",
              "dtype: int64"
            ]
          },
          "execution_count": 11,
          "metadata": {},
          "output_type": "execute_result"
        }
      ],
      "source": [
        "# 결측 제거 후 확인 \n",
        "df1.isna().sum()"
      ]
    },
    {
      "cell_type": "code",
      "execution_count": 49,
      "metadata": {
        "colab": {
          "base_uri": "https://localhost:8080/",
          "height": 206
        },
        "id": "Db8aEJpI7iiK",
        "outputId": "721af461-14b3-4580-d540-49c80a33c8f7"
      },
      "outputs": [
        {
          "data": {
            "text/html": [
              "<div>\n",
              "<style scoped>\n",
              "    .dataframe tbody tr th:only-of-type {\n",
              "        vertical-align: middle;\n",
              "    }\n",
              "\n",
              "    .dataframe tbody tr th {\n",
              "        vertical-align: top;\n",
              "    }\n",
              "\n",
              "    .dataframe thead th {\n",
              "        text-align: right;\n",
              "    }\n",
              "</style>\n",
              "<table border=\"1\" class=\"dataframe\">\n",
              "  <thead>\n",
              "    <tr style=\"text-align: right;\">\n",
              "      <th></th>\n",
              "      <th>BIZ_NO</th>\n",
              "      <th>STT_YR_MO</th>\n",
              "      <th>M11000</th>\n",
              "      <th>M11130</th>\n",
              "      <th>M12000</th>\n",
              "      <th>M12300</th>\n",
              "      <th>M14900</th>\n",
              "      <th>M15000</th>\n",
              "      <th>M16000</th>\n",
              "      <th>M19900-M19800</th>\n",
              "      <th>...</th>\n",
              "      <th>MC3100</th>\n",
              "      <th>MD1100</th>\n",
              "      <th>MD1800</th>\n",
              "      <th>MD2300</th>\n",
              "      <th>MD2400</th>\n",
              "      <th>M11150</th>\n",
              "      <th>M22000</th>\n",
              "      <th>M12500</th>\n",
              "      <th>M11500</th>\n",
              "      <th>LABEL</th>\n",
              "    </tr>\n",
              "  </thead>\n",
              "  <tbody>\n",
              "    <tr>\n",
              "      <th>20</th>\n",
              "      <td>1018104477</td>\n",
              "      <td>20181231</td>\n",
              "      <td>63617362.0</td>\n",
              "      <td>894220.0</td>\n",
              "      <td>267056570.0</td>\n",
              "      <td>243277730.0</td>\n",
              "      <td>330673932.0</td>\n",
              "      <td>112220541.0</td>\n",
              "      <td>99725297.0</td>\n",
              "      <td>211945838.0</td>\n",
              "      <td>...</td>\n",
              "      <td>558.737</td>\n",
              "      <td>0.113</td>\n",
              "      <td>0.649</td>\n",
              "      <td>43.535</td>\n",
              "      <td>130.062</td>\n",
              "      <td>498897.0</td>\n",
              "      <td>22392335.0</td>\n",
              "      <td>176381.0</td>\n",
              "      <td>53942768.0</td>\n",
              "      <td>0.0</td>\n",
              "    </tr>\n",
              "    <tr>\n",
              "      <th>21</th>\n",
              "      <td>1018104477</td>\n",
              "      <td>20191231</td>\n",
              "      <td>60921607.0</td>\n",
              "      <td>913618.0</td>\n",
              "      <td>264034556.0</td>\n",
              "      <td>238156706.0</td>\n",
              "      <td>324956163.0</td>\n",
              "      <td>125448350.0</td>\n",
              "      <td>77764751.0</td>\n",
              "      <td>203213101.0</td>\n",
              "      <td>...</td>\n",
              "      <td>294.400</td>\n",
              "      <td>0.210</td>\n",
              "      <td>1.772</td>\n",
              "      <td>76.354</td>\n",
              "      <td>265.310</td>\n",
              "      <td>241713.0</td>\n",
              "      <td>49058836.0</td>\n",
              "      <td>125250.0</td>\n",
              "      <td>23951998.0</td>\n",
              "      <td>0.0</td>\n",
              "    </tr>\n",
              "    <tr>\n",
              "      <th>22</th>\n",
              "      <td>1018104477</td>\n",
              "      <td>20201231</td>\n",
              "      <td>43451141.0</td>\n",
              "      <td>888892.0</td>\n",
              "      <td>233044178.0</td>\n",
              "      <td>206314843.0</td>\n",
              "      <td>276495319.0</td>\n",
              "      <td>94889526.0</td>\n",
              "      <td>58084652.0</td>\n",
              "      <td>152974178.0</td>\n",
              "      <td>...</td>\n",
              "      <td>377.699</td>\n",
              "      <td>0.135</td>\n",
              "      <td>2.204</td>\n",
              "      <td>44.939</td>\n",
              "      <td>184.692</td>\n",
              "      <td>358110.0</td>\n",
              "      <td>27590642.0</td>\n",
              "      <td>69734.0</td>\n",
              "      <td>12803265.0</td>\n",
              "      <td>0.0</td>\n",
              "    </tr>\n",
              "    <tr>\n",
              "      <th>23</th>\n",
              "      <td>1018104477</td>\n",
              "      <td>20211231</td>\n",
              "      <td>56571216.0</td>\n",
              "      <td>883688.0</td>\n",
              "      <td>230454713.0</td>\n",
              "      <td>200553518.0</td>\n",
              "      <td>287025929.0</td>\n",
              "      <td>95917746.0</td>\n",
              "      <td>45122291.0</td>\n",
              "      <td>141040037.0</td>\n",
              "      <td>...</td>\n",
              "      <td>310.874</td>\n",
              "      <td>0.161</td>\n",
              "      <td>5.611</td>\n",
              "      <td>51.190</td>\n",
              "      <td>255.887</td>\n",
              "      <td>58707.0</td>\n",
              "      <td>27569619.0</td>\n",
              "      <td>72385.0</td>\n",
              "      <td>3367175.0</td>\n",
              "      <td>0.0</td>\n",
              "    </tr>\n",
              "    <tr>\n",
              "      <th>52</th>\n",
              "      <td>1018119252</td>\n",
              "      <td>20181231</td>\n",
              "      <td>6918597.0</td>\n",
              "      <td>160635.0</td>\n",
              "      <td>7720331.0</td>\n",
              "      <td>5805367.0</td>\n",
              "      <td>14638928.0</td>\n",
              "      <td>3105215.0</td>\n",
              "      <td>3500000.0</td>\n",
              "      <td>6605215.0</td>\n",
              "      <td>...</td>\n",
              "      <td>77.390</td>\n",
              "      <td>0.600</td>\n",
              "      <td>1.584</td>\n",
              "      <td>34.826</td>\n",
              "      <td>44.765</td>\n",
              "      <td>10055.0</td>\n",
              "      <td>2985546.0</td>\n",
              "      <td>31948.0</td>\n",
              "      <td>5420362.0</td>\n",
              "      <td>0.0</td>\n",
              "    </tr>\n",
              "  </tbody>\n",
              "</table>\n",
              "<p>5 rows × 47 columns</p>\n",
              "</div>"
            ],
            "text/plain": [
              "        BIZ_NO  STT_YR_MO      M11000    M11130       M12000       M12300  \\\n",
              "20  1018104477   20181231  63617362.0  894220.0  267056570.0  243277730.0   \n",
              "21  1018104477   20191231  60921607.0  913618.0  264034556.0  238156706.0   \n",
              "22  1018104477   20201231  43451141.0  888892.0  233044178.0  206314843.0   \n",
              "23  1018104477   20211231  56571216.0  883688.0  230454713.0  200553518.0   \n",
              "52  1018119252   20181231   6918597.0  160635.0    7720331.0    5805367.0   \n",
              "\n",
              "         M14900       M15000      M16000  M19900-M19800  ...   MC3100  MD1100  \\\n",
              "20  330673932.0  112220541.0  99725297.0    211945838.0  ...  558.737   0.113   \n",
              "21  324956163.0  125448350.0  77764751.0    203213101.0  ...  294.400   0.210   \n",
              "22  276495319.0   94889526.0  58084652.0    152974178.0  ...  377.699   0.135   \n",
              "23  287025929.0   95917746.0  45122291.0    141040037.0  ...  310.874   0.161   \n",
              "52   14638928.0    3105215.0   3500000.0      6605215.0  ...   77.390   0.600   \n",
              "\n",
              "    MD1800  MD2300   MD2400    M11150      M22000    M12500      M11500  LABEL  \n",
              "20   0.649  43.535  130.062  498897.0  22392335.0  176381.0  53942768.0    0.0  \n",
              "21   1.772  76.354  265.310  241713.0  49058836.0  125250.0  23951998.0    0.0  \n",
              "22   2.204  44.939  184.692  358110.0  27590642.0   69734.0  12803265.0    0.0  \n",
              "23   5.611  51.190  255.887   58707.0  27569619.0   72385.0   3367175.0    0.0  \n",
              "52   1.584  34.826   44.765   10055.0   2985546.0   31948.0   5420362.0    0.0  \n",
              "\n",
              "[5 rows x 47 columns]"
            ]
          },
          "execution_count": 49,
          "metadata": {},
          "output_type": "execute_result"
        }
      ],
      "source": [
        "df2.head()"
      ]
    },
    {
      "cell_type": "markdown",
      "metadata": {
        "id": "tRCkiGfDeTdg"
      },
      "source": [
        "\n",
        "\n",
        "\n",
        "3.   모델링\n",
        "\n"
      ]
    },
    {
      "cell_type": "code",
      "execution_count": 50,
      "metadata": {
        "id": "VRI6be_5OAvH"
      },
      "outputs": [],
      "source": [
        "# features/target, train/test dataset 분리\n",
        "# 사업자번호의 경우 최종등급의 영향이 크지 않을것으로 예측되어 제외\n",
        "X = df2.drop(columns=['LABEL'])\n",
        "y = df2[['LABEL']]\n",
        "\n",
        "train_x, test_x, train_y, test_y = train_test_split(X, y, test_size = 0.2, random_state = 42) # 학습데이터와 평가데이터의 비율을 8:2 로 분할| "
      ]
    },
    {
      "cell_type": "code",
      "execution_count": 51,
      "metadata": {
        "id": "-grSSmqxe-4h"
      },
      "outputs": [],
      "source": [
        "## 데이터 스케일링\n",
        "# 데이터 스케일링 작업을 통해, 모든 특성의 범위(또는 분포)를 같게 만들어줘야합니다.\n",
        "\n",
        "from sklearn.preprocessing import StandardScaler\n",
        "\n",
        "scaler = StandardScaler()\n",
        "train_x = scaler.fit_transform(train_x)\n",
        "test_x = scaler.transform(test_x)"
      ]
    },
    {
      "cell_type": "code",
      "execution_count": 61,
      "metadata": {
        "colab": {
          "base_uri": "https://localhost:8080/"
        },
        "id": "G5M4fawELMwd",
        "outputId": "baa0ee5f-4e22-418a-ec97-4267fbaf914f"
      },
      "outputs": [
        {
          "name": "stderr",
          "output_type": "stream",
          "text": [
            "/var/folders/w5/9_lbs3zn75j3rp12lcj63_6c0000gn/T/ipykernel_81135/2210117533.py:3: DataConversionWarning: A column-vector y was passed when a 1d array was expected. Please change the shape of y to (n_samples,), for example using ravel().\n",
            "  model_rf.fit(train_x,train_y)\n"
          ]
        },
        {
          "name": "stdout",
          "output_type": "stream",
          "text": [
            "ACC: 0.9612291194060631\n",
            "AUC: 0.5870116072346011\n",
            "변수 중요도: \n",
            "[8.47707810e-03 1.02057136e-01 7.24448251e-02 5.10194903e-03\n",
            " 5.59113677e-02 3.86397868e-02 1.16690890e-01 5.73371602e-02\n",
            " 1.64693631e-02 7.72568699e-02 2.33760175e-02 4.04281677e-02\n",
            " 4.27869806e-02 8.17745362e-02 5.79781996e-02 3.49107677e-02\n",
            " 1.84262524e-02 1.29561394e-02 3.48439556e-02 0.00000000e+00\n",
            " 0.00000000e+00 3.16932464e-04 0.00000000e+00 0.00000000e+00\n",
            " 3.51508715e-04 3.12092319e-04 1.17374310e-02 0.00000000e+00\n",
            " 0.00000000e+00 0.00000000e+00 2.89227331e-04 0.00000000e+00\n",
            " 0.00000000e+00 8.09288230e-05 2.58284224e-02 1.97108816e-03\n",
            " 7.02701466e-04 0.00000000e+00 0.00000000e+00 0.00000000e+00\n",
            " 0.00000000e+00 5.93370498e-05 6.42661682e-03 3.21665663e-02\n",
            " 1.07585903e-02 1.11311141e-02]\n"
          ]
        }
      ],
      "source": [
        "## 랜덤포레스트 모델 생성 및 평가 \n",
        "model_rf = RandomForestClassifier(n_estimators=20, max_depth=5,random_state=0)\n",
        "model_rf.fit(train_x,train_y)\n",
        "\n",
        "# SCORE 산출\n",
        "predict1 = model_rf.predict(test_x)\n",
        "print(f'ACC: {accuracy_score(test_y, predict1)}')\n",
        "print(f'AUC: {roc_auc_score(test_y, predict1)}')\n",
        "# 중요도\n",
        "print(f'변수 중요도: \\n{model_rf.feature_importances_}')"
      ]
    },
    {
      "cell_type": "code",
      "execution_count": 60,
      "metadata": {
        "colab": {
          "base_uri": "https://localhost:8080/"
        },
        "id": "Nlq8_ck1fbtT",
        "outputId": "c3db61b3-89d4-4b7c-fd7d-6e6787898cfd"
      },
      "outputs": [
        {
          "name": "stderr",
          "output_type": "stream",
          "text": [
            "/Users/jaegyoonoh/.pyenv/versions/3.10.1/lib/python3.10/site-packages/sklearn/utils/validation.py:1111: DataConversionWarning: A column-vector y was passed when a 1d array was expected. Please change the shape of y to (n_samples, ), for example using ravel().\n",
            "  y = column_or_1d(y, warn=True)\n"
          ]
        },
        {
          "name": "stdout",
          "output_type": "stream",
          "text": [
            "ACC: 0.952567539698907\n",
            "AUC: 0.5077796777426866\n"
          ]
        },
        {
          "name": "stderr",
          "output_type": "stream",
          "text": [
            "/Users/jaegyoonoh/.pyenv/versions/3.10.1/lib/python3.10/site-packages/sklearn/linear_model/_logistic.py:444: ConvergenceWarning: lbfgs failed to converge (status=1):\n",
            "STOP: TOTAL NO. of ITERATIONS REACHED LIMIT.\n",
            "\n",
            "Increase the number of iterations (max_iter) or scale the data as shown in:\n",
            "    https://scikit-learn.org/stable/modules/preprocessing.html\n",
            "Please also refer to the documentation for alternative solver options:\n",
            "    https://scikit-learn.org/stable/modules/linear_model.html#logistic-regression\n",
            "  n_iter_i = _check_optimize_result(\n"
          ]
        }
      ],
      "source": [
        "## 로지스틱 모델 생성 및 평가 \n",
        "\n",
        "model_lg = LogisticRegression()\n",
        "model_lg.fit(train_x, train_y)\n",
        "\n",
        "# SCORE 산출\n",
        "predict2 = model_lg.predict(test_x)\n",
        "print(f'ACC: {accuracy_score(test_y, predict2)}')\n",
        "print(f'AUC: {roc_auc_score(test_y, predict2)}')"
      ]
    },
    {
      "cell_type": "code",
      "execution_count": 55,
      "metadata": {
        "colab": {
          "base_uri": "https://localhost:8080/"
        },
        "id": "APUWc-cdYlJd",
        "outputId": "44be903f-fcbd-41db-ce21-8c0f2b1bd5db"
      },
      "outputs": [
        {
          "name": "stderr",
          "output_type": "stream",
          "text": [
            "/Users/jaegyoonoh/.pyenv/versions/3.10.1/lib/python3.10/site-packages/sklearn/base.py:450: UserWarning: X does not have valid feature names, but StandardScaler was fitted with feature names\n",
            "  warnings.warn(\n"
          ]
        },
        {
          "ename": "ValueError",
          "evalue": "X has 8 features, but StandardScaler is expecting 46 features as input.",
          "output_type": "error",
          "traceback": [
            "\u001b[0;31m---------------------------------------------------------------------------\u001b[0m",
            "\u001b[0;31mValueError\u001b[0m                                Traceback (most recent call last)",
            "Cell \u001b[0;32mIn [55], line 10\u001b[0m\n\u001b[1;32m      7\u001b[0m sample_passengers \u001b[38;5;241m=\u001b[39m np\u001b[38;5;241m.\u001b[39marray([jack, me,i])\n\u001b[1;32m      9\u001b[0m \u001b[38;5;66;03m# 새로운 데이터도 스케일링 해줘야함.\u001b[39;00m\n\u001b[0;32m---> 10\u001b[0m sample_passengers \u001b[38;5;241m=\u001b[39m scaler\u001b[38;5;241m.\u001b[39mtransform(sample_passengers)\n",
            "File \u001b[0;32m~/.pyenv/versions/3.10.1/lib/python3.10/site-packages/sklearn/preprocessing/_data.py:975\u001b[0m, in \u001b[0;36mStandardScaler.transform\u001b[0;34m(self, X, copy)\u001b[0m\n\u001b[1;32m    972\u001b[0m check_is_fitted(\u001b[39mself\u001b[39m)\n\u001b[1;32m    974\u001b[0m copy \u001b[39m=\u001b[39m copy \u001b[39mif\u001b[39;00m copy \u001b[39mis\u001b[39;00m \u001b[39mnot\u001b[39;00m \u001b[39mNone\u001b[39;00m \u001b[39melse\u001b[39;00m \u001b[39mself\u001b[39m\u001b[39m.\u001b[39mcopy\n\u001b[0;32m--> 975\u001b[0m X \u001b[39m=\u001b[39m \u001b[39mself\u001b[39;49m\u001b[39m.\u001b[39;49m_validate_data(\n\u001b[1;32m    976\u001b[0m     X,\n\u001b[1;32m    977\u001b[0m     reset\u001b[39m=\u001b[39;49m\u001b[39mFalse\u001b[39;49;00m,\n\u001b[1;32m    978\u001b[0m     accept_sparse\u001b[39m=\u001b[39;49m\u001b[39m\"\u001b[39;49m\u001b[39mcsr\u001b[39;49m\u001b[39m\"\u001b[39;49m,\n\u001b[1;32m    979\u001b[0m     copy\u001b[39m=\u001b[39;49mcopy,\n\u001b[1;32m    980\u001b[0m     dtype\u001b[39m=\u001b[39;49mFLOAT_DTYPES,\n\u001b[1;32m    981\u001b[0m     force_all_finite\u001b[39m=\u001b[39;49m\u001b[39m\"\u001b[39;49m\u001b[39mallow-nan\u001b[39;49m\u001b[39m\"\u001b[39;49m,\n\u001b[1;32m    982\u001b[0m )\n\u001b[1;32m    984\u001b[0m \u001b[39mif\u001b[39;00m sparse\u001b[39m.\u001b[39missparse(X):\n\u001b[1;32m    985\u001b[0m     \u001b[39mif\u001b[39;00m \u001b[39mself\u001b[39m\u001b[39m.\u001b[39mwith_mean:\n",
            "File \u001b[0;32m~/.pyenv/versions/3.10.1/lib/python3.10/site-packages/sklearn/base.py:600\u001b[0m, in \u001b[0;36mBaseEstimator._validate_data\u001b[0;34m(self, X, y, reset, validate_separately, **check_params)\u001b[0m\n\u001b[1;32m    597\u001b[0m     out \u001b[39m=\u001b[39m X, y\n\u001b[1;32m    599\u001b[0m \u001b[39mif\u001b[39;00m \u001b[39mnot\u001b[39;00m no_val_X \u001b[39mand\u001b[39;00m check_params\u001b[39m.\u001b[39mget(\u001b[39m\"\u001b[39m\u001b[39mensure_2d\u001b[39m\u001b[39m\"\u001b[39m, \u001b[39mTrue\u001b[39;00m):\n\u001b[0;32m--> 600\u001b[0m     \u001b[39mself\u001b[39;49m\u001b[39m.\u001b[39;49m_check_n_features(X, reset\u001b[39m=\u001b[39;49mreset)\n\u001b[1;32m    602\u001b[0m \u001b[39mreturn\u001b[39;00m out\n",
            "File \u001b[0;32m~/.pyenv/versions/3.10.1/lib/python3.10/site-packages/sklearn/base.py:400\u001b[0m, in \u001b[0;36mBaseEstimator._check_n_features\u001b[0;34m(self, X, reset)\u001b[0m\n\u001b[1;32m    397\u001b[0m     \u001b[39mreturn\u001b[39;00m\n\u001b[1;32m    399\u001b[0m \u001b[39mif\u001b[39;00m n_features \u001b[39m!=\u001b[39m \u001b[39mself\u001b[39m\u001b[39m.\u001b[39mn_features_in_:\n\u001b[0;32m--> 400\u001b[0m     \u001b[39mraise\u001b[39;00m \u001b[39mValueError\u001b[39;00m(\n\u001b[1;32m    401\u001b[0m         \u001b[39mf\u001b[39m\u001b[39m\"\u001b[39m\u001b[39mX has \u001b[39m\u001b[39m{\u001b[39;00mn_features\u001b[39m}\u001b[39;00m\u001b[39m features, but \u001b[39m\u001b[39m{\u001b[39;00m\u001b[39mself\u001b[39m\u001b[39m.\u001b[39m\u001b[39m__class__\u001b[39m\u001b[39m.\u001b[39m\u001b[39m__name__\u001b[39m\u001b[39m}\u001b[39;00m\u001b[39m \u001b[39m\u001b[39m\"\u001b[39m\n\u001b[1;32m    402\u001b[0m         \u001b[39mf\u001b[39m\u001b[39m\"\u001b[39m\u001b[39mis expecting \u001b[39m\u001b[39m{\u001b[39;00m\u001b[39mself\u001b[39m\u001b[39m.\u001b[39mn_features_in_\u001b[39m}\u001b[39;00m\u001b[39m features as input.\u001b[39m\u001b[39m\"\u001b[39m\n\u001b[1;32m    403\u001b[0m     )\n",
            "\u001b[0;31mValueError\u001b[0m: X has 8 features, but StandardScaler is expecting 46 features as input."
          ]
        }
      ],
      "source": [
        "# 새로운 데이터 예측하기 \n",
        "\n",
        "jack=np.array([504,11,4,8888,0,2,70,6])\n",
        "me=np.array([504,11,4,9999,100,4,20,3])\n",
        "i=np.array([504,11,4,7777,0,2,70,2])\n",
        "\n",
        "sample_passengers = np.array([jack, me,i])\n",
        "\n",
        "# 새로운 데이터도 스케일링 해줘야함.\n",
        "sample_passengers = scaler.transform(sample_passengers)"
      ]
    },
    {
      "cell_type": "code",
      "execution_count": 54,
      "metadata": {
        "colab": {
          "base_uri": "https://localhost:8080/"
        },
        "id": "SIzH4GMqZiHa",
        "outputId": "b05449b7-f04a-47de-caf8-299b60bfee84"
      },
      "outputs": [
        {
          "ename": "NameError",
          "evalue": "name 'sample_passengers' is not defined",
          "output_type": "error",
          "traceback": [
            "\u001b[0;31m---------------------------------------------------------------------------\u001b[0m",
            "\u001b[0;31mNameError\u001b[0m                                 Traceback (most recent call last)",
            "Cell \u001b[0;32mIn [54], line 3\u001b[0m\n\u001b[1;32m      1\u001b[0m \u001b[38;5;66;03m# 새로운 데이터에 대해 최종등급 예측\u001b[39;00m\n\u001b[0;32m----> 3\u001b[0m \u001b[38;5;28mprint\u001b[39m(model_rf\u001b[38;5;241m.\u001b[39mpredict(sample_passengers))\n\u001b[1;32m      4\u001b[0m \u001b[38;5;28mprint\u001b[39m(model_lg\u001b[38;5;241m.\u001b[39mpredict(sample_passengers))\n",
            "\u001b[0;31mNameError\u001b[0m: name 'sample_passengers' is not defined"
          ]
        }
      ],
      "source": [
        "# 새로운 데이터에 대해 최종등급 예측\n",
        "\n",
        "print(model_rf.predict(sample_passengers))\n",
        "print(model_lg.predict(sample_passengers))"
      ]
    },
    {
      "cell_type": "markdown",
      "metadata": {
        "id": "6zAcQEsFrmFO"
      },
      "source": [
        "\n",
        "\n",
        "4.   제출파일 생성\n",
        "\n"
      ]
    },
    {
      "cell_type": "code",
      "execution_count": null,
      "metadata": {
        "id": "6xgmAl4Fr39Y"
      },
      "outputs": [],
      "source": [
        "predict1 = model.predict(test_x)"
      ]
    },
    {
      "cell_type": "code",
      "execution_count": null,
      "metadata": {
        "id": "HzYxdRCGsFLz"
      },
      "outputs": [],
      "source": [
        "#제출용 파일 infile\n",
        "submission=pd.read_csv('/content/submission.csv')\n",
        "submission"
      ]
    },
    {
      "cell_type": "code",
      "execution_count": null,
      "metadata": {
        "colab": {
          "base_uri": "https://localhost:8080/"
        },
        "id": "IRY9rO-pDbP1",
        "outputId": "88116e8a-ac4d-42b9-865d-a4a78a3bb143"
      },
      "outputs": [
        {
          "data": {
            "text/plain": [
              "array([0., 5., 0., ..., 1., 0., 2.])"
            ]
          },
          "execution_count": 60,
          "metadata": {},
          "output_type": "execute_result"
        }
      ],
      "source": [
        "predict1"
      ]
    },
    {
      "cell_type": "code",
      "execution_count": null,
      "metadata": {
        "id": "5ir_YSe7sFNP"
      },
      "outputs": [],
      "source": [
        "submission['최종등급']=predict1\n",
        "submission"
      ]
    },
    {
      "cell_type": "code",
      "execution_count": null,
      "metadata": {
        "id": "s-ww7MagscGG"
      },
      "outputs": [],
      "source": [
        "submission.to_csv('결과물제출.csv')"
      ]
    }
  ],
  "metadata": {
    "colab": {
      "collapsed_sections": [],
      "name": "넘블_챌린지_베이스라인_파이썬 (1).ipynb",
      "provenance": []
    },
    "kernelspec": {
      "display_name": "Python 3.10.1 64-bit ('3.10.1')",
      "language": "python",
      "name": "python3"
    },
    "language_info": {
      "codemirror_mode": {
        "name": "ipython",
        "version": 3
      },
      "file_extension": ".py",
      "mimetype": "text/x-python",
      "name": "python",
      "nbconvert_exporter": "python",
      "pygments_lexer": "ipython3",
      "version": "3.10.1"
    },
    "vscode": {
      "interpreter": {
        "hash": "2d25af67f7d3c5609ae30e2d1455689bfa9a24b58d5f1549f3b6f18a257d3713"
      }
    }
  },
  "nbformat": 4,
  "nbformat_minor": 0
}
