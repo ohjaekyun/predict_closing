{
 "cells": [
  {
   "cell_type": "markdown",
   "metadata": {},
   "source": [
    "학습한 모델을 불러와서 외부 환경 변수를 축소한다"
   ]
  },
  {
   "cell_type": "code",
   "execution_count": 1,
   "metadata": {},
   "outputs": [],
   "source": [
    "from typing import List, Callable, Union, Any, TypeVar, Tuple\n",
    "from torch import nn\n",
    "import torch\n",
    "from torch.nn import functional as F\n",
    "import numpy as np\n",
    "import pandas as pd\n",
    "from torch import tensor as Tensor\n",
    "from torch.utils.data import Dataset, DataLoader\n",
    "from sklearn.model_selection import train_test_split\n",
    "import random\n",
    "from models.rnn import CMV_LSTM, MV_LSTM\n",
    "from models.vae import ConditionalVAE, VanillaVAEEncoder, VanillaVAEDecoder\n",
    "from models.rvae import UnitRVAE, RVAE\n",
    "from utils.loss import VAE_Loss"
   ]
  },
  {
   "cell_type": "code",
   "execution_count": 7,
   "metadata": {},
   "outputs": [],
   "source": [
    "from pretrain_rvae_model import get_total_datas, timeseries"
   ]
  },
  {
   "cell_type": "code",
   "execution_count": 2,
   "metadata": {},
   "outputs": [],
   "source": [
    "seq_len = 5\n",
    "batch_size = 4\n",
    "torch.autograd.set_detect_anomaly(True)\n",
    "device = \"cuda\" if torch.cuda.is_available() else \"cpu\""
   ]
  },
  {
   "cell_type": "code",
   "execution_count": 4,
   "metadata": {},
   "outputs": [],
   "source": [
    "# Load datas\n",
    "df_econs = pd.read_csv('data/total_economy_data.csv', index_col=0)\n",
    "df_econs = df_econs[df_econs['year'] > 2015].reset_index(drop=True, inplace=False)\n",
    "df_econs1 = df_econs.drop(columns=['year', 'month'])\n",
    "df_econs1 = df_econs1.dropna(axis=1)\n",
    "arr_econs = df_econs1.to_numpy()\n",
    "arr_econs = arr_econs / 1e10\n",
    "\n",
    "df_trends = pd.read_csv('data/total_trends.csv', index_col=0)\n",
    "df_trends = df_trends[df_trends['year'] > 2015].reset_index(drop=True, inplace=False)\n",
    "df_trends1 = df_trends.drop(columns=['year', 'month'])\n",
    "df_trends1 = df_trends1.dropna(axis=1)\n",
    "arr_trends = df_trends1.to_numpy() / 20\n",
    "\n",
    "df_weathers = pd.read_csv('data/average_weather.csv', index_col=0)\n",
    "df_weathers = df_weathers[df_weathers['year'] > 2015].reset_index(drop=True, inplace=False)\n",
    "df_weathers1 = df_weathers.drop(columns=['year', 'month'])\n",
    "df_weathers1 = df_weathers1.dropna(axis=1)\n",
    "arr_weathers = df_weathers1.to_numpy() / 10\n",
    "\n",
    "# Train RVAE\n",
    "rvae = RVAE(\n",
    "    arr_econs.shape[-1],\n",
    "    arr_trends.shape[-1],\n",
    "    arr_weathers.shape[-1],\n",
    "    28,\n",
    "    16,\n",
    "    4,\n",
    "    seq_len\n",
    "    )"
   ]
  },
  {
   "cell_type": "code",
   "execution_count": 5,
   "metadata": {},
   "outputs": [
    {
     "data": {
      "text/plain": [
       "<All keys matched successfully>"
      ]
     },
     "execution_count": 5,
     "metadata": {},
     "output_type": "execute_result"
    }
   ],
   "source": [
    "rvae.load_state_dict(torch.load('rvae.pt'))"
   ]
  },
  {
   "cell_type": "code",
   "execution_count": null,
   "metadata": {},
   "outputs": [],
   "source": [
    "model = rvae\n",
    "num_points = len(arr_econs)\n",
    "base_num = int(num_points * 0.8)\n",
    "\n",
    "x_train1, y_train1 = get_total_datas(seq_len, arr_econs, shuffle=False)\n",
    "train_dataset1 = timeseries(x_train1, y_train1)\n",
    "\n",
    "x_train2, y_train2 = get_total_datas(seq_len, arr_trends, shuffle=False)\n",
    "train_dataset2 = timeseries(x_train2, y_train2)\n",
    "\n",
    "x_train3, y_train3 = get_total_datas(seq_len, arr_weathers, shuffle=False)\n",
    "train_dataset3 = timeseries(x_train3, y_train3)\n",
    "\n",
    "model = rvae.to(device)\n",
    "\n",
    "train_train_loader1 = DataLoader(train_dataset1, shuffle=False, batch_size=batch_size)\n",
    "train_train_loader2 = DataLoader(train_dataset2, shuffle=False, batch_size=batch_size)\n",
    "train_train_loader3 = DataLoader(train_dataset3, shuffle=False, batch_size=batch_size)\n",
    "for data1, data2, data3 in zip(train_train_loader1, train_train_loader2, train_train_loader3):\n",
    "    if data1[0].shape[0] != batch_size:\n",
    "        break\n",
    "    curr_data1 = data1[0].clone().detach(), data1[1].clone().detach()\n",
    "    curr_data2 = data2[0].clone().detach(), data2[1].clone().detach()\n",
    "    curr_data3 = data3[0].clone().detach(), data3[1].clone().detach()\n",
    "    output = model(curr_data1[0], curr_data2[0], curr_data3[0])\n",
    "    #loss = criterion(output[2], output[3], output[0], curr_data[1])\n",
    "    result = model.loss_function([curr_data1[1].clone(), curr_data2[1].clone(), curr_data3[1].clone()], *output, **{'M_N': 0.5})\n"
   ]
  }
 ],
 "metadata": {
  "kernelspec": {
   "display_name": "Python 3.9.15 ('test2': conda)",
   "language": "python",
   "name": "python3"
  },
  "language_info": {
   "codemirror_mode": {
    "name": "ipython",
    "version": 3
   },
   "file_extension": ".py",
   "mimetype": "text/x-python",
   "name": "python",
   "nbconvert_exporter": "python",
   "pygments_lexer": "ipython3",
   "version": "3.9.15"
  },
  "orig_nbformat": 4,
  "vscode": {
   "interpreter": {
    "hash": "05df2373b415eafa06c2ece122c4624d761dfbc867a44e9909e9177350fa44ca"
   }
  }
 },
 "nbformat": 4,
 "nbformat_minor": 2
}
