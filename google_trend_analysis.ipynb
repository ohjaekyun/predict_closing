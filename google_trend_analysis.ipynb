{
 "cells": [
  {
   "cell_type": "code",
   "execution_count": 53,
   "metadata": {},
   "outputs": [],
   "source": [
    "from pytrends.request import TrendReq\n",
    "import time\n",
    "import pandas as pd "
   ]
  },
  {
   "cell_type": "code",
   "execution_count": 2,
   "metadata": {},
   "outputs": [],
   "source": [
    "pytrends = TrendReq(hl='ko', tz=540)"
   ]
  },
  {
   "cell_type": "code",
   "execution_count": 5,
   "metadata": {},
   "outputs": [
    {
     "data": {
      "text/html": [
       "<div>\n",
       "<style scoped>\n",
       "    .dataframe tbody tr th:only-of-type {\n",
       "        vertical-align: middle;\n",
       "    }\n",
       "\n",
       "    .dataframe tbody tr th {\n",
       "        vertical-align: top;\n",
       "    }\n",
       "\n",
       "    .dataframe thead th {\n",
       "        text-align: right;\n",
       "    }\n",
       "</style>\n",
       "<table border=\"1\" class=\"dataframe\">\n",
       "  <thead>\n",
       "    <tr style=\"text-align: right;\">\n",
       "      <th></th>\n",
       "      <th>0</th>\n",
       "    </tr>\n",
       "  </thead>\n",
       "  <tbody>\n",
       "    <tr>\n",
       "      <th>0</th>\n",
       "      <td>폴란드</td>\n",
       "    </tr>\n",
       "    <tr>\n",
       "      <th>1</th>\n",
       "      <td>멕시코</td>\n",
       "    </tr>\n",
       "    <tr>\n",
       "      <th>2</th>\n",
       "      <td>아르헨티나 사우디아라비아</td>\n",
       "    </tr>\n",
       "    <tr>\n",
       "      <th>3</th>\n",
       "      <td>튀니지</td>\n",
       "    </tr>\n",
       "    <tr>\n",
       "      <th>4</th>\n",
       "      <td>네덜란드 세네갈</td>\n",
       "    </tr>\n",
       "    <tr>\n",
       "      <th>5</th>\n",
       "      <td>양의지</td>\n",
       "    </tr>\n",
       "    <tr>\n",
       "      <th>6</th>\n",
       "      <td>STX</td>\n",
       "    </tr>\n",
       "    <tr>\n",
       "      <th>7</th>\n",
       "      <td>채은성</td>\n",
       "    </tr>\n",
       "    <tr>\n",
       "      <th>8</th>\n",
       "      <td>송민호</td>\n",
       "    </tr>\n",
       "    <tr>\n",
       "      <th>9</th>\n",
       "      <td>김건모</td>\n",
       "    </tr>\n",
       "    <tr>\n",
       "      <th>10</th>\n",
       "      <td>이승기</td>\n",
       "    </tr>\n",
       "    <tr>\n",
       "      <th>11</th>\n",
       "      <td>에콰도르</td>\n",
       "    </tr>\n",
       "    <tr>\n",
       "      <th>12</th>\n",
       "      <td>웨일스</td>\n",
       "    </tr>\n",
       "    <tr>\n",
       "      <th>13</th>\n",
       "      <td>잉글랜드</td>\n",
       "    </tr>\n",
       "    <tr>\n",
       "      <th>14</th>\n",
       "      <td>유강남</td>\n",
       "    </tr>\n",
       "    <tr>\n",
       "      <th>15</th>\n",
       "      <td>MBC</td>\n",
       "    </tr>\n",
       "    <tr>\n",
       "      <th>16</th>\n",
       "      <td>Sbs</td>\n",
       "    </tr>\n",
       "    <tr>\n",
       "      <th>17</th>\n",
       "      <td>2022 FIFA 월드컵</td>\n",
       "    </tr>\n",
       "    <tr>\n",
       "      <th>18</th>\n",
       "      <td>우루과이</td>\n",
       "    </tr>\n",
       "    <tr>\n",
       "      <th>19</th>\n",
       "      <td>카타르월드컵</td>\n",
       "    </tr>\n",
       "  </tbody>\n",
       "</table>\n",
       "</div>"
      ],
      "text/plain": [
       "                0\n",
       "0             폴란드\n",
       "1             멕시코\n",
       "2   아르헨티나 사우디아라비아\n",
       "3             튀니지\n",
       "4        네덜란드 세네갈\n",
       "5             양의지\n",
       "6             STX\n",
       "7             채은성\n",
       "8             송민호\n",
       "9             김건모\n",
       "10            이승기\n",
       "11           에콰도르\n",
       "12            웨일스\n",
       "13           잉글랜드\n",
       "14            유강남\n",
       "15            MBC\n",
       "16            Sbs\n",
       "17  2022 FIFA 월드컵\n",
       "18           우루과이\n",
       "19         카타르월드컵"
      ]
     },
     "execution_count": 5,
     "metadata": {},
     "output_type": "execute_result"
    }
   ],
   "source": [
    "pytrends.trending_searches(pn='south_korea')"
   ]
  },
  {
   "cell_type": "code",
   "execution_count": 8,
   "metadata": {},
   "outputs": [],
   "source": [
    "with open('text_keywords.txt', 'r') as f:\n",
    "    keywords = f.read().split('\\n')"
   ]
  },
  {
   "cell_type": "code",
   "execution_count": 9,
   "metadata": {},
   "outputs": [
    {
     "data": {
      "text/plain": [
       "['자동차',\n",
       " '전자',\n",
       " '침구류',\n",
       " '청소',\n",
       " '실내건축',\n",
       " '조리',\n",
       " '목재',\n",
       " '재생산',\n",
       " '제조업',\n",
       " '유류',\n",
       " '임대업',\n",
       " '용접',\n",
       " '배전',\n",
       " '하수처리',\n",
       " '설비',\n",
       " '조경',\n",
       " '의류',\n",
       " '원단',\n",
       " '전선',\n",
       " '살균',\n",
       " '토목',\n",
       " '통신',\n",
       " '운송업',\n",
       " '공공사업',\n",
       " '소음방지',\n",
       " '기계',\n",
       " '수출',\n",
       " '수산물',\n",
       " '도매업',\n",
       " '화장',\n",
       " '방수',\n",
       " '전기',\n",
       " '건설업',\n",
       " '재활용',\n",
       " '창고',\n",
       " '프로그램',\n",
       " '도판',\n",
       " '철판',\n",
       " '염색',\n",
       " '가공',\n",
       " '서랍',\n",
       " '인쇄',\n",
       " '출판업',\n",
       " '식품',\n",
       " '동물',\n",
       " '포장',\n",
       " '설계용역',\n",
       " '도소매',\n",
       " '체육',\n",
       " '보관',\n",
       " '판매업',\n",
       " '철근콘크리트',\n",
       " '농축산물',\n",
       " '건물위생관리',\n",
       " '잡화류',\n",
       " '의료',\n",
       " '난방',\n",
       " '아스팔트',\n",
       " '인테리어',\n",
       " '엔지니어링',\n",
       " '음료',\n",
       " '무대조명',\n",
       " '항체치료제',\n",
       " '소방',\n",
       " '철구조물',\n",
       " '측정장비',\n",
       " '가구업',\n",
       " '기초무기화합',\n",
       " '방송업',\n",
       " '온라인',\n",
       " '휴대폰',\n",
       " '아동복',\n",
       " '조미김',\n",
       " '점토벽돌',\n",
       " '욕탕탕업',\n",
       " '호텔숙박업',\n",
       " '신발',\n",
       " '폐쇄회로',\n",
       " '의약품',\n",
       " '파견업',\n",
       " '골프장',\n",
       " '무인감시카메라',\n",
       " '김치',\n",
       " '유리',\n",
       " '학원',\n",
       " '레미콘',\n",
       " '필름제조',\n",
       " '자동화기기',\n",
       " '인삼',\n",
       " '']"
      ]
     },
     "execution_count": 9,
     "metadata": {},
     "output_type": "execute_result"
    }
   ],
   "source": [
    "keywords"
   ]
  },
  {
   "cell_type": "code",
   "execution_count": 16,
   "metadata": {},
   "outputs": [
    {
     "data": {
      "text/plain": [
       "['자동차', '전자', '침구류', '청소', '실내건축', '조리', '목재', '재생산', '제조업', '유류']"
      ]
     },
     "execution_count": 16,
     "metadata": {},
     "output_type": "execute_result"
    }
   ],
   "source": [
    "keywords[:10]"
   ]
  },
  {
   "cell_type": "code",
   "execution_count": 23,
   "metadata": {},
   "outputs": [
    {
     "data": {
      "text/plain": [
       "'조리'"
      ]
     },
     "execution_count": 23,
     "metadata": {},
     "output_type": "execute_result"
    }
   ],
   "source": [
    "keywords[5]"
   ]
  },
  {
   "cell_type": "code",
   "execution_count": 27,
   "metadata": {},
   "outputs": [
    {
     "data": {
      "text/plain": [
       "90"
      ]
     },
     "execution_count": 27,
     "metadata": {},
     "output_type": "execute_result"
    }
   ],
   "source": [
    "len(keywords)"
   ]
  },
  {
   "cell_type": "code",
   "execution_count": 29,
   "metadata": {},
   "outputs": [
    {
     "data": {
      "text/plain": [
       "[5, 10, 15, 20, 25, 30, 35, 40, 45, 50, 55, 60, 65, 70, 75, 80, 85]"
      ]
     },
     "execution_count": 29,
     "metadata": {},
     "output_type": "execute_result"
    }
   ],
   "source": [
    "list(range(5, len(keywords), 5))"
   ]
  },
  {
   "cell_type": "code",
   "execution_count": 24,
   "metadata": {},
   "outputs": [],
   "source": [
    "pytrends.build_payload(kw_list=['조리'], timeframe='2014-01-01 2022-11-01', geo='KR')\n",
    "dt = pytrends.interest_over_time()"
   ]
  },
  {
   "cell_type": "code",
   "execution_count": 70,
   "metadata": {},
   "outputs": [],
   "source": [
    "dataframes = []\n",
    "j = 1\n",
    "for i in range(5, len(keywords), 4):\n",
    "    base_keywords = [keywords[0]]\n",
    "    base_keywords.extend(keywords[j:i])\n",
    "    \n",
    "    pytrends.build_payload(kw_list=base_keywords, timeframe='2014-01-01 2022-11-01', geo='KR')\n",
    "    dt = pytrends.interest_over_time()\n",
    "    dt = dt.drop(columns=['isPartial'])\n",
    "    time.sleep(0.3)\n",
    "    j = i\n",
    "    dataframes.append(dt)\n",
    "if i != len(keywords):\n",
    "    pytrends.build_payload(kw_list=keywords[i:], timeframe='2014-01-01 2022-11-01', geo='KR')\n",
    "    dt = pytrends.interest_over_time()\n",
    "    dt = dt.drop(columns=['isPartial'])\n",
    "    dataframes.append(dt)"
   ]
  },
  {
   "cell_type": "code",
   "execution_count": 95,
   "metadata": {},
   "outputs": [],
   "source": [
    "pytrends.build_payload(kw_list=[keywords[0], '한국', 'korea'], timeframe='2014-01-01 2022-11-01', geo='KR')\n",
    "dt = pytrends.interest_over_time()\n",
    "dataframes.append(dt.drop(columns=['isPartial']))"
   ]
  },
  {
   "cell_type": "code",
   "execution_count": 93,
   "metadata": {},
   "outputs": [],
   "source": [
    "df1=dataframes.pop()\n",
    "df2=dataframes.pop()"
   ]
  },
  {
   "cell_type": "code",
   "execution_count": 88,
   "metadata": {},
   "outputs": [
    {
     "data": {
      "text/plain": [
       "'자동차'"
      ]
     },
     "execution_count": 88,
     "metadata": {},
     "output_type": "execute_result"
    }
   ],
   "source": [
    "keywords[0]"
   ]
  },
  {
   "cell_type": "code",
   "execution_count": 94,
   "metadata": {},
   "outputs": [
    {
     "data": {
      "text/html": [
       "<div>\n",
       "<style scoped>\n",
       "    .dataframe tbody tr th:only-of-type {\n",
       "        vertical-align: middle;\n",
       "    }\n",
       "\n",
       "    .dataframe tbody tr th {\n",
       "        vertical-align: top;\n",
       "    }\n",
       "\n",
       "    .dataframe thead th {\n",
       "        text-align: right;\n",
       "    }\n",
       "</style>\n",
       "<table border=\"1\" class=\"dataframe\">\n",
       "  <thead>\n",
       "    <tr style=\"text-align: right;\">\n",
       "      <th></th>\n",
       "      <th>1</th>\n",
       "      <th>2</th>\n",
       "      <th>3</th>\n",
       "      <th>4</th>\n",
       "      <th></th>\n",
       "    </tr>\n",
       "    <tr>\n",
       "      <th>date</th>\n",
       "      <th></th>\n",
       "      <th></th>\n",
       "      <th></th>\n",
       "      <th></th>\n",
       "      <th></th>\n",
       "    </tr>\n",
       "  </thead>\n",
       "  <tbody>\n",
       "    <tr>\n",
       "      <th>2014-01-01</th>\n",
       "      <td>1</td>\n",
       "      <td>0</td>\n",
       "      <td>0</td>\n",
       "      <td>4</td>\n",
       "      <td>87</td>\n",
       "    </tr>\n",
       "    <tr>\n",
       "      <th>2014-02-01</th>\n",
       "      <td>1</td>\n",
       "      <td>0</td>\n",
       "      <td>0</td>\n",
       "      <td>4</td>\n",
       "      <td>85</td>\n",
       "    </tr>\n",
       "    <tr>\n",
       "      <th>2014-03-01</th>\n",
       "      <td>2</td>\n",
       "      <td>0</td>\n",
       "      <td>0</td>\n",
       "      <td>3</td>\n",
       "      <td>88</td>\n",
       "    </tr>\n",
       "    <tr>\n",
       "      <th>2014-04-01</th>\n",
       "      <td>1</td>\n",
       "      <td>0</td>\n",
       "      <td>0</td>\n",
       "      <td>4</td>\n",
       "      <td>78</td>\n",
       "    </tr>\n",
       "    <tr>\n",
       "      <th>2014-05-01</th>\n",
       "      <td>1</td>\n",
       "      <td>0</td>\n",
       "      <td>0</td>\n",
       "      <td>4</td>\n",
       "      <td>82</td>\n",
       "    </tr>\n",
       "  </tbody>\n",
       "</table>\n",
       "</div>"
      ],
      "text/plain": [
       "             1   2   3   4    \n",
       "date                          \n",
       "2014-01-01   1   0   0   4  87\n",
       "2014-02-01   1   0   0   4  85\n",
       "2014-03-01   2   0   0   3  88\n",
       "2014-04-01   1   0   0   4  78\n",
       "2014-05-01   1   0   0   4  82"
      ]
     },
     "execution_count": 94,
     "metadata": {},
     "output_type": "execute_result"
    }
   ],
   "source": [
    "df2.head()"
   ]
  },
  {
   "cell_type": "code",
   "execution_count": 96,
   "metadata": {},
   "outputs": [
    {
     "name": "stdout",
     "output_type": "stream",
     "text": [
      "49\n",
      "85\n",
      "85\n",
      "85\n",
      "71\n",
      "85\n",
      "85\n",
      "85\n",
      "85\n",
      "85\n",
      "70\n",
      "85\n",
      "85\n",
      "85\n",
      "85\n",
      "85\n",
      "85\n",
      "11\n",
      "85\n",
      "54\n",
      "85\n",
      "85\n",
      "16\n"
     ]
    }
   ],
   "source": [
    "for df in dataframes:\n",
    "    print(df['자동차'][-1])"
   ]
  },
  {
   "cell_type": "code",
   "execution_count": 105,
   "metadata": {},
   "outputs": [],
   "source": [
    "dataframes1 = []\n",
    "for j, df in enumerate(dataframes):\n",
    "    years = []\n",
    "    months = []\n",
    "    df = df.reset_index(inplace=False)\n",
    "    for i, row in df.iterrows():\n",
    "        curr_date = row.date.date()\n",
    "        years.append(curr_date.year)\n",
    "        months.append(curr_date.month)\n",
    "    df = df.drop(columns=['date'])\n",
    "    if j == 0:\n",
    "        new_columns = ['year', 'month']\n",
    "        new_columns.extend(list(df.columns))\n",
    "        df['year'] = years\n",
    "        df['month'] = months\n",
    "        df = df[new_columns]\n",
    "        base_value = df[keywords[0]].iloc[-1].item()\n",
    "    else:\n",
    "        curr_value = df[keywords[0]].iloc[-1].item()\n",
    "        df = df * base_value / curr_value\n",
    "        df = df.drop(columns=[keywords[0]])\n",
    "    dataframes1.append(df)"
   ]
  },
  {
   "cell_type": "code",
   "execution_count": 108,
   "metadata": {},
   "outputs": [
    {
     "data": {
      "text/html": [
       "<div>\n",
       "<style scoped>\n",
       "    .dataframe tbody tr th:only-of-type {\n",
       "        vertical-align: middle;\n",
       "    }\n",
       "\n",
       "    .dataframe tbody tr th {\n",
       "        vertical-align: top;\n",
       "    }\n",
       "\n",
       "    .dataframe thead th {\n",
       "        text-align: right;\n",
       "    }\n",
       "</style>\n",
       "<table border=\"1\" class=\"dataframe\">\n",
       "  <thead>\n",
       "    <tr style=\"text-align: right;\">\n",
       "      <th></th>\n",
       "      <th>year</th>\n",
       "      <th>month</th>\n",
       "      <th>자동차</th>\n",
       "      <th>전자</th>\n",
       "      <th>침구류</th>\n",
       "      <th>청소</th>\n",
       "      <th>실내건축</th>\n",
       "      <th>조리</th>\n",
       "      <th>목재</th>\n",
       "      <th>재생산</th>\n",
       "      <th>...</th>\n",
       "      <th>무인감시카메라</th>\n",
       "      <th>김치</th>\n",
       "      <th>유리</th>\n",
       "      <th>학원</th>\n",
       "      <th>레미콘</th>\n",
       "      <th>필름제조</th>\n",
       "      <th>자동화기기</th>\n",
       "      <th>인삼</th>\n",
       "      <th>한국</th>\n",
       "      <th>korea</th>\n",
       "    </tr>\n",
       "  </thead>\n",
       "  <tbody>\n",
       "    <tr>\n",
       "      <th>0</th>\n",
       "      <td>2014</td>\n",
       "      <td>1</td>\n",
       "      <td>52</td>\n",
       "      <td>52</td>\n",
       "      <td>0</td>\n",
       "      <td>7</td>\n",
       "      <td>0</td>\n",
       "      <td>1.729412</td>\n",
       "      <td>1.729412</td>\n",
       "      <td>0.0</td>\n",
       "      <td>...</td>\n",
       "      <td>0.0</td>\n",
       "      <td>18.447059</td>\n",
       "      <td>16.141176</td>\n",
       "      <td>39.776471</td>\n",
       "      <td>0.576471</td>\n",
       "      <td>0.0</td>\n",
       "      <td>0.0</td>\n",
       "      <td>2.305882</td>\n",
       "      <td>211.3125</td>\n",
       "      <td>116.3750</td>\n",
       "    </tr>\n",
       "    <tr>\n",
       "      <th>1</th>\n",
       "      <td>2014</td>\n",
       "      <td>2</td>\n",
       "      <td>47</td>\n",
       "      <td>42</td>\n",
       "      <td>0</td>\n",
       "      <td>8</td>\n",
       "      <td>0</td>\n",
       "      <td>1.729412</td>\n",
       "      <td>1.729412</td>\n",
       "      <td>0.0</td>\n",
       "      <td>...</td>\n",
       "      <td>0.0</td>\n",
       "      <td>15.564706</td>\n",
       "      <td>13.835294</td>\n",
       "      <td>42.658824</td>\n",
       "      <td>0.576471</td>\n",
       "      <td>0.0</td>\n",
       "      <td>0.0</td>\n",
       "      <td>2.305882</td>\n",
       "      <td>214.3750</td>\n",
       "      <td>122.5000</td>\n",
       "    </tr>\n",
       "    <tr>\n",
       "      <th>2</th>\n",
       "      <td>2014</td>\n",
       "      <td>3</td>\n",
       "      <td>54</td>\n",
       "      <td>48</td>\n",
       "      <td>0</td>\n",
       "      <td>8</td>\n",
       "      <td>0</td>\n",
       "      <td>2.305882</td>\n",
       "      <td>1.729412</td>\n",
       "      <td>0.0</td>\n",
       "      <td>...</td>\n",
       "      <td>0.0</td>\n",
       "      <td>19.023529</td>\n",
       "      <td>14.411765</td>\n",
       "      <td>35.741176</td>\n",
       "      <td>1.152941</td>\n",
       "      <td>0.0</td>\n",
       "      <td>0.0</td>\n",
       "      <td>1.729412</td>\n",
       "      <td>217.4375</td>\n",
       "      <td>128.6250</td>\n",
       "    </tr>\n",
       "    <tr>\n",
       "      <th>3</th>\n",
       "      <td>2014</td>\n",
       "      <td>4</td>\n",
       "      <td>48</td>\n",
       "      <td>47</td>\n",
       "      <td>0</td>\n",
       "      <td>7</td>\n",
       "      <td>0</td>\n",
       "      <td>2.305882</td>\n",
       "      <td>2.305882</td>\n",
       "      <td>0.0</td>\n",
       "      <td>...</td>\n",
       "      <td>0.0</td>\n",
       "      <td>23.635294</td>\n",
       "      <td>12.682353</td>\n",
       "      <td>30.552941</td>\n",
       "      <td>0.576471</td>\n",
       "      <td>0.0</td>\n",
       "      <td>0.0</td>\n",
       "      <td>2.305882</td>\n",
       "      <td>214.3750</td>\n",
       "      <td>143.9375</td>\n",
       "    </tr>\n",
       "    <tr>\n",
       "      <th>4</th>\n",
       "      <td>2014</td>\n",
       "      <td>5</td>\n",
       "      <td>48</td>\n",
       "      <td>46</td>\n",
       "      <td>0</td>\n",
       "      <td>9</td>\n",
       "      <td>0</td>\n",
       "      <td>1.729412</td>\n",
       "      <td>1.729412</td>\n",
       "      <td>0.0</td>\n",
       "      <td>...</td>\n",
       "      <td>0.0</td>\n",
       "      <td>23.635294</td>\n",
       "      <td>13.258824</td>\n",
       "      <td>32.858824</td>\n",
       "      <td>0.576471</td>\n",
       "      <td>0.0</td>\n",
       "      <td>0.0</td>\n",
       "      <td>2.305882</td>\n",
       "      <td>205.1875</td>\n",
       "      <td>134.7500</td>\n",
       "    </tr>\n",
       "  </tbody>\n",
       "</table>\n",
       "<p>5 rows × 93 columns</p>\n",
       "</div>"
      ],
      "text/plain": [
       "   year  month  자동차  전자  침구류  청소  실내건축        조리        목재  재생산  ...  무인감시카메라  \\\n",
       "0  2014      1   52  52    0   7     0  1.729412  1.729412  0.0  ...      0.0   \n",
       "1  2014      2   47  42    0   8     0  1.729412  1.729412  0.0  ...      0.0   \n",
       "2  2014      3   54  48    0   8     0  2.305882  1.729412  0.0  ...      0.0   \n",
       "3  2014      4   48  47    0   7     0  2.305882  2.305882  0.0  ...      0.0   \n",
       "4  2014      5   48  46    0   9     0  1.729412  1.729412  0.0  ...      0.0   \n",
       "\n",
       "          김치         유리         학원       레미콘  필름제조  자동화기기        인삼        한국  \\\n",
       "0  18.447059  16.141176  39.776471  0.576471   0.0    0.0  2.305882  211.3125   \n",
       "1  15.564706  13.835294  42.658824  0.576471   0.0    0.0  2.305882  214.3750   \n",
       "2  19.023529  14.411765  35.741176  1.152941   0.0    0.0  1.729412  217.4375   \n",
       "3  23.635294  12.682353  30.552941  0.576471   0.0    0.0  2.305882  214.3750   \n",
       "4  23.635294  13.258824  32.858824  0.576471   0.0    0.0  2.305882  205.1875   \n",
       "\n",
       "      korea  \n",
       "0  116.3750  \n",
       "1  122.5000  \n",
       "2  128.6250  \n",
       "3  143.9375  \n",
       "4  134.7500  \n",
       "\n",
       "[5 rows x 93 columns]"
      ]
     },
     "execution_count": 108,
     "metadata": {},
     "output_type": "execute_result"
    }
   ],
   "source": [
    "df_total = pd.concat(dataframes1, axis = 1)\n",
    "df_total.head()"
   ]
  },
  {
   "cell_type": "code",
   "execution_count": 115,
   "metadata": {},
   "outputs": [],
   "source": [
    "df_total1 = df_total.drop(columns=['기초무기화합', '욕탕탕업'])\n",
    "df_total1.to_csv('data/google_trends.csv')"
   ]
  },
  {
   "cell_type": "code",
   "execution_count": 116,
   "metadata": {},
   "outputs": [
    {
     "data": {
      "text/plain": [
       "Index(['year', 'month', '자동차', '전자', '침구류', '청소', '실내건축', '조리', '목재', '재생산',\n",
       "       '제조업', '유류', '임대업', '용접', '배전', '하수처리', '설비', '조경', '의류', '원단', '전선',\n",
       "       '살균', '토목', '통신', '운송업', '공공사업', '소음방지', '기계', '수출', '수산물', '도매업', '화장',\n",
       "       '방수', '전기', '건설업', '재활용', '창고', '프로그램', '도판', '철판', '염색', '가공', '서랍',\n",
       "       '인쇄', '출판업', '식품', '동물', '포장', '설계용역', '도소매', '체육', '보관', '판매업',\n",
       "       '철근콘크리트', '농축산물', '건물위생관리', '잡화류', '의료', '난방', '아스팔트', '인테리어', '엔지니어링',\n",
       "       '음료', '무대조명', '항체치료제', '소방', '철구조물', '측정장비', '가구업', '방송업', '온라인', '휴대폰',\n",
       "       '아동복', '조미김', '점토벽돌', '호텔숙박업', '신발', '폐쇄회로', '의약품', '파견업', '골프장',\n",
       "       '무인감시카메라', '김치', '유리', '학원', '레미콘', '필름제조', '자동화기기', '인삼', '한국',\n",
       "       'korea'],\n",
       "      dtype='object')"
      ]
     },
     "execution_count": 116,
     "metadata": {},
     "output_type": "execute_result"
    }
   ],
   "source": [
    "df_total1.columns"
   ]
  },
  {
   "cell_type": "code",
   "execution_count": 113,
   "metadata": {},
   "outputs": [],
   "source": [
    "list_google = list(df_total.columns)"
   ]
  },
  {
   "cell_type": "code",
   "execution_count": 114,
   "metadata": {},
   "outputs": [
    {
     "name": "stdout",
     "output_type": "stream",
     "text": [
      "기초무기화합\n",
      "욕탕탕업\n",
      "korea\n"
     ]
    }
   ],
   "source": [
    "list_naver = ['year', 'month', '자동차', '전자', '침구류', '청소', '실내건축', '조리', '목재', '재생산',\n",
    "       '제조업', '유류', '임대업', '용접', '배전', '하수처리', '설비', '조경', '의류', '원단', '전선',\n",
    "       '살균', '토목', '통신', '운송업', '공공사업', '소음방지', '기계', '수출', '수산물', '도매업', '화장',\n",
    "       '방수', '전기', '건설업', '재활용', '창고', '프로그램', '도판', '철판', '염색', '가공', '서랍',\n",
    "       '인쇄', '출판업', '식품', '동물', '포장', '설계용역', '도소매', '체육', '보관', '판매업',\n",
    "       '철근콘크리트', '농축산물', '건물위생관리', '잡화류', '의료', '난방', '아스팔트', '인테리어', '엔지니어링',\n",
    "       '음료', '무대조명', '항체치료제', '소방', '철구조물', '측정장비', '가구업', '방송업', '온라인', '휴대폰',\n",
    "       '아동복', '조미김', '점토벽돌', '호텔숙박업', '신발', '폐쇄회로', '의약품', '파견업', '골프장',\n",
    "       '무인감시카메라', '김치', '유리', '학원', '레미콘', '필름제조', '자동화기기', '인삼', '한국']\n",
    "for keyw in list_google:\n",
    "    if keyw not in list_naver:\n",
    "       print(keyw)"
   ]
  },
  {
   "cell_type": "code",
   "execution_count": null,
   "metadata": {},
   "outputs": [],
   "source": []
  }
 ],
 "metadata": {
  "kernelspec": {
   "display_name": "Python 3.10.1 64-bit ('3.10.1')",
   "language": "python",
   "name": "python3"
  },
  "language_info": {
   "codemirror_mode": {
    "name": "ipython",
    "version": 3
   },
   "file_extension": ".py",
   "mimetype": "text/x-python",
   "name": "python",
   "nbconvert_exporter": "python",
   "pygments_lexer": "ipython3",
   "version": "3.10.1"
  },
  "orig_nbformat": 4,
  "vscode": {
   "interpreter": {
    "hash": "2d25af67f7d3c5609ae30e2d1455689bfa9a24b58d5f1549f3b6f18a257d3713"
   }
  }
 },
 "nbformat": 4,
 "nbformat_minor": 2
}
