{
 "cells": [
  {
   "cell_type": "code",
   "execution_count": 4,
   "metadata": {},
   "outputs": [],
   "source": [
    "import json\n",
    "import os\n",
    "import sys\n",
    "import numpy as np\n",
    "import pandas as pd"
   ]
  },
  {
   "cell_type": "code",
   "execution_count": 71,
   "metadata": {},
   "outputs": [
    {
     "data": {
      "text/html": [
       "<div>\n",
       "<style scoped>\n",
       "    .dataframe tbody tr th:only-of-type {\n",
       "        vertical-align: middle;\n",
       "    }\n",
       "\n",
       "    .dataframe tbody tr th {\n",
       "        vertical-align: top;\n",
       "    }\n",
       "\n",
       "    .dataframe thead th {\n",
       "        text-align: right;\n",
       "    }\n",
       "</style>\n",
       "<table border=\"1\" class=\"dataframe\">\n",
       "  <thead>\n",
       "    <tr style=\"text-align: right;\">\n",
       "      <th></th>\n",
       "      <th>BIZ_NO</th>\n",
       "      <th>END_DATE</th>\n",
       "      <th>STRT_DATE</th>\n",
       "      <th>CLSBZ_GB</th>\n",
       "      <th>STAT_OCR_DATE</th>\n",
       "    </tr>\n",
       "  </thead>\n",
       "  <tbody>\n",
       "    <tr>\n",
       "      <th>0</th>\n",
       "      <td>1268145633</td>\n",
       "      <td>99991231</td>\n",
       "      <td>20220518</td>\n",
       "      <td>3</td>\n",
       "      <td>20220518</td>\n",
       "    </tr>\n",
       "    <tr>\n",
       "      <th>1</th>\n",
       "      <td>1388101749</td>\n",
       "      <td>99991231</td>\n",
       "      <td>20210319</td>\n",
       "      <td>3</td>\n",
       "      <td>20210319</td>\n",
       "    </tr>\n",
       "    <tr>\n",
       "      <th>2</th>\n",
       "      <td>1068179240</td>\n",
       "      <td>99991231</td>\n",
       "      <td>20200731</td>\n",
       "      <td>3</td>\n",
       "      <td>20191213</td>\n",
       "    </tr>\n",
       "    <tr>\n",
       "      <th>3</th>\n",
       "      <td>2248114507</td>\n",
       "      <td>99991231</td>\n",
       "      <td>20210531</td>\n",
       "      <td>3</td>\n",
       "      <td>20210531</td>\n",
       "    </tr>\n",
       "    <tr>\n",
       "      <th>4</th>\n",
       "      <td>1168132785</td>\n",
       "      <td>99991231</td>\n",
       "      <td>20210630</td>\n",
       "      <td>3</td>\n",
       "      <td>20210630</td>\n",
       "    </tr>\n",
       "    <tr>\n",
       "      <th>5</th>\n",
       "      <td>6178132798</td>\n",
       "      <td>99991231</td>\n",
       "      <td>20220715</td>\n",
       "      <td>3</td>\n",
       "      <td>20220715</td>\n",
       "    </tr>\n",
       "    <tr>\n",
       "      <th>6</th>\n",
       "      <td>5108108828</td>\n",
       "      <td>99991231</td>\n",
       "      <td>20210305</td>\n",
       "      <td>3</td>\n",
       "      <td>20210305</td>\n",
       "    </tr>\n",
       "  </tbody>\n",
       "</table>\n",
       "</div>"
      ],
      "text/plain": [
       "       BIZ_NO  END_DATE  STRT_DATE  CLSBZ_GB  STAT_OCR_DATE\n",
       "0  1268145633  99991231   20220518         3       20220518\n",
       "1  1388101749  99991231   20210319         3       20210319\n",
       "2  1068179240  99991231   20200731         3       20191213\n",
       "3  2248114507  99991231   20210531         3       20210531\n",
       "4  1168132785  99991231   20210630         3       20210630\n",
       "5  6178132798  99991231   20220715         3       20220715\n",
       "6  5108108828  99991231   20210305         3       20210305"
      ]
     },
     "execution_count": 71,
     "metadata": {},
     "output_type": "execute_result"
    }
   ],
   "source": [
    "good_history = pd.read_csv('data/closed_company_history.csv')\n",
    "good_history.head(7)"
   ]
  },
  {
   "cell_type": "code",
   "execution_count": 73,
   "metadata": {},
   "outputs": [
    {
     "data": {
      "text/html": [
       "<div>\n",
       "<style scoped>\n",
       "    .dataframe tbody tr th:only-of-type {\n",
       "        vertical-align: middle;\n",
       "    }\n",
       "\n",
       "    .dataframe tbody tr th {\n",
       "        vertical-align: top;\n",
       "    }\n",
       "\n",
       "    .dataframe thead th {\n",
       "        text-align: right;\n",
       "    }\n",
       "</style>\n",
       "<table border=\"1\" class=\"dataframe\">\n",
       "  <thead>\n",
       "    <tr style=\"text-align: right;\">\n",
       "      <th></th>\n",
       "      <th>BIZ_NO</th>\n",
       "      <th>BZ_TYP</th>\n",
       "      <th>CMP_SCL</th>\n",
       "      <th>PBCO_GB</th>\n",
       "      <th>PSN_CORP_GB</th>\n",
       "      <th>HDOF_BR_GB</th>\n",
       "      <th>FR_IVST_CORP_YN</th>\n",
       "      <th>VENT_YN</th>\n",
       "      <th>LIST_CD</th>\n",
       "      <th>IND_CD_ORDR</th>\n",
       "      <th>...</th>\n",
       "      <th>NATN_NM</th>\n",
       "      <th>EMP_CNT</th>\n",
       "      <th>IS_LP</th>\n",
       "      <th>IS_LC</th>\n",
       "      <th>IS_LTD</th>\n",
       "      <th>IS_SP</th>\n",
       "      <th>IS_ETC</th>\n",
       "      <th>HAS_HOMEPAGE</th>\n",
       "      <th>CEO_CNT</th>\n",
       "      <th>label</th>\n",
       "    </tr>\n",
       "  </thead>\n",
       "  <tbody>\n",
       "    <tr>\n",
       "      <th>0</th>\n",
       "      <td>1268145633</td>\n",
       "      <td>M</td>\n",
       "      <td>2</td>\n",
       "      <td>2</td>\n",
       "      <td>1</td>\n",
       "      <td>1</td>\n",
       "      <td>N</td>\n",
       "      <td>N</td>\n",
       "      <td>NaN</td>\n",
       "      <td>10.0</td>\n",
       "      <td>...</td>\n",
       "      <td>NaN</td>\n",
       "      <td>40.0</td>\n",
       "      <td>False</td>\n",
       "      <td>False</td>\n",
       "      <td>True</td>\n",
       "      <td>False</td>\n",
       "      <td>False</td>\n",
       "      <td>True</td>\n",
       "      <td>1.0</td>\n",
       "      <td>1</td>\n",
       "    </tr>\n",
       "    <tr>\n",
       "      <th>1</th>\n",
       "      <td>1388101749</td>\n",
       "      <td>M</td>\n",
       "      <td>2</td>\n",
       "      <td>2</td>\n",
       "      <td>1</td>\n",
       "      <td>1</td>\n",
       "      <td>N</td>\n",
       "      <td>N</td>\n",
       "      <td>NaN</td>\n",
       "      <td>10.0</td>\n",
       "      <td>...</td>\n",
       "      <td>NaN</td>\n",
       "      <td>13.0</td>\n",
       "      <td>False</td>\n",
       "      <td>False</td>\n",
       "      <td>True</td>\n",
       "      <td>False</td>\n",
       "      <td>False</td>\n",
       "      <td>True</td>\n",
       "      <td>1.0</td>\n",
       "      <td>1</td>\n",
       "    </tr>\n",
       "    <tr>\n",
       "      <th>2</th>\n",
       "      <td>1068179240</td>\n",
       "      <td>M</td>\n",
       "      <td>2</td>\n",
       "      <td>2</td>\n",
       "      <td>1</td>\n",
       "      <td>1</td>\n",
       "      <td>N</td>\n",
       "      <td>N</td>\n",
       "      <td>NaN</td>\n",
       "      <td>10.0</td>\n",
       "      <td>...</td>\n",
       "      <td>NaN</td>\n",
       "      <td>1.0</td>\n",
       "      <td>False</td>\n",
       "      <td>False</td>\n",
       "      <td>True</td>\n",
       "      <td>False</td>\n",
       "      <td>False</td>\n",
       "      <td>False</td>\n",
       "      <td>1.0</td>\n",
       "      <td>1</td>\n",
       "    </tr>\n",
       "    <tr>\n",
       "      <th>3</th>\n",
       "      <td>2248114507</td>\n",
       "      <td>M</td>\n",
       "      <td>2</td>\n",
       "      <td>2</td>\n",
       "      <td>1</td>\n",
       "      <td>1</td>\n",
       "      <td>N</td>\n",
       "      <td>N</td>\n",
       "      <td>NaN</td>\n",
       "      <td>10.0</td>\n",
       "      <td>...</td>\n",
       "      <td>NaN</td>\n",
       "      <td>6.0</td>\n",
       "      <td>False</td>\n",
       "      <td>False</td>\n",
       "      <td>True</td>\n",
       "      <td>False</td>\n",
       "      <td>False</td>\n",
       "      <td>False</td>\n",
       "      <td>2.0</td>\n",
       "      <td>1</td>\n",
       "    </tr>\n",
       "    <tr>\n",
       "      <th>4</th>\n",
       "      <td>1168132785</td>\n",
       "      <td>M</td>\n",
       "      <td>2</td>\n",
       "      <td>2</td>\n",
       "      <td>1</td>\n",
       "      <td>1</td>\n",
       "      <td>N</td>\n",
       "      <td>N</td>\n",
       "      <td>NaN</td>\n",
       "      <td>10.0</td>\n",
       "      <td>...</td>\n",
       "      <td>NaN</td>\n",
       "      <td>40.0</td>\n",
       "      <td>False</td>\n",
       "      <td>False</td>\n",
       "      <td>True</td>\n",
       "      <td>False</td>\n",
       "      <td>False</td>\n",
       "      <td>True</td>\n",
       "      <td>1.0</td>\n",
       "      <td>1</td>\n",
       "    </tr>\n",
       "    <tr>\n",
       "      <th>5</th>\n",
       "      <td>6178132798</td>\n",
       "      <td>M</td>\n",
       "      <td>2</td>\n",
       "      <td>2</td>\n",
       "      <td>1</td>\n",
       "      <td>1</td>\n",
       "      <td>N</td>\n",
       "      <td>N</td>\n",
       "      <td>NaN</td>\n",
       "      <td>10.0</td>\n",
       "      <td>...</td>\n",
       "      <td>NaN</td>\n",
       "      <td>73.0</td>\n",
       "      <td>False</td>\n",
       "      <td>False</td>\n",
       "      <td>True</td>\n",
       "      <td>False</td>\n",
       "      <td>False</td>\n",
       "      <td>True</td>\n",
       "      <td>1.0</td>\n",
       "      <td>1</td>\n",
       "    </tr>\n",
       "    <tr>\n",
       "      <th>6</th>\n",
       "      <td>5108108828</td>\n",
       "      <td>M</td>\n",
       "      <td>2</td>\n",
       "      <td>2</td>\n",
       "      <td>1</td>\n",
       "      <td>1</td>\n",
       "      <td>N</td>\n",
       "      <td>N</td>\n",
       "      <td>NaN</td>\n",
       "      <td>10.0</td>\n",
       "      <td>...</td>\n",
       "      <td>NaN</td>\n",
       "      <td>10.0</td>\n",
       "      <td>False</td>\n",
       "      <td>False</td>\n",
       "      <td>True</td>\n",
       "      <td>False</td>\n",
       "      <td>False</td>\n",
       "      <td>False</td>\n",
       "      <td>1.0</td>\n",
       "      <td>1</td>\n",
       "    </tr>\n",
       "  </tbody>\n",
       "</table>\n",
       "<p>7 rows × 30 columns</p>\n",
       "</div>"
      ],
      "text/plain": [
       "       BIZ_NO BZ_TYP  CMP_SCL  PBCO_GB  PSN_CORP_GB  HDOF_BR_GB  \\\n",
       "0  1268145633      M        2        2            1           1   \n",
       "1  1388101749      M        2        2            1           1   \n",
       "2  1068179240      M        2        2            1           1   \n",
       "3  2248114507      M        2        2            1           1   \n",
       "4  1168132785      M        2        2            1           1   \n",
       "5  6178132798      M        2        2            1           1   \n",
       "6  5108108828      M        2        2            1           1   \n",
       "\n",
       "  FR_IVST_CORP_YN VENT_YN LIST_CD  IND_CD_ORDR  ...  NATN_NM  EMP_CNT  IS_LP  \\\n",
       "0               N       N     NaN         10.0  ...      NaN     40.0  False   \n",
       "1               N       N     NaN         10.0  ...      NaN     13.0  False   \n",
       "2               N       N     NaN         10.0  ...      NaN      1.0  False   \n",
       "3               N       N     NaN         10.0  ...      NaN      6.0  False   \n",
       "4               N       N     NaN         10.0  ...      NaN     40.0  False   \n",
       "5               N       N     NaN         10.0  ...      NaN     73.0  False   \n",
       "6               N       N     NaN         10.0  ...      NaN     10.0  False   \n",
       "\n",
       "   IS_LC IS_LTD  IS_SP  IS_ETC  HAS_HOMEPAGE  CEO_CNT label  \n",
       "0  False   True  False   False          True      1.0     1  \n",
       "1  False   True  False   False          True      1.0     1  \n",
       "2  False   True  False   False         False      1.0     1  \n",
       "3  False   True  False   False         False      2.0     1  \n",
       "4  False   True  False   False          True      1.0     1  \n",
       "5  False   True  False   False          True      1.0     1  \n",
       "6  False   True  False   False         False      1.0     1  \n",
       "\n",
       "[7 rows x 30 columns]"
      ]
     },
     "execution_count": 73,
     "metadata": {},
     "output_type": "execute_result"
    }
   ],
   "source": [
    "good_summary = pd.read_csv('data/closed_company_summary.csv', index_col=0)\n",
    "good_summary.head(7)"
   ]
  },
  {
   "cell_type": "code",
   "execution_count": 74,
   "metadata": {},
   "outputs": [],
   "source": [
    "estb_dates = good_summary.ESTB_DATE.to_numpy().astype(np.int32)"
   ]
  },
  {
   "cell_type": "code",
   "execution_count": 75,
   "metadata": {},
   "outputs": [
    {
     "data": {
      "text/plain": [
       "array([1018135422, 1018154206, 1018163684, ..., 8998600312, 8998700283,\n",
       "       8998701263])"
      ]
     },
     "execution_count": 75,
     "metadata": {},
     "output_type": "execute_result"
    }
   ],
   "source": [
    "arr_biz_no = np.unique(good_history.BIZ_NO)\n",
    "arr_biz_no"
   ]
  },
  {
   "cell_type": "markdown",
   "metadata": {},
   "source": [
    "#### STATUS CODE\n",
    "0: 정상  \n",
    "1: 부도  \n",
    "2: 휴업  \n",
    "3: 폐업  \n",
    "4: 피합병  "
   ]
  },
  {
   "cell_type": "code",
   "execution_count": 76,
   "metadata": {},
   "outputs": [],
   "source": [
    "gb_to_status = {\n",
    "    1: 1,\n",
    "    2: 2,\n",
    "    3: 3,\n",
    "    4: 4,\n",
    "    5: 0,\n",
    "    6: 0,\n",
    "}"
   ]
  },
  {
   "cell_type": "code",
   "execution_count": 77,
   "metadata": {},
   "outputs": [],
   "source": [
    "def history_of_biz(biz_no, df_history, df_summary, dict_status):\n",
    "    curr_df_history = df_history[df_history['BIZ_NO'] == biz_no]\n",
    "    curr_df_history = curr_df_history.sort_values(by=['STRT_DATE'])\n",
    "    curr_df_summary = df_summary[df_summary['BIZ_NO'] == biz_no]\n",
    "    histories = [[int(curr_df_summary.ESTB_DATE.item()), 0],]\n",
    "    curr_history = histories[-1]\n",
    "    for i, row in curr_df_history.iterrows():\n",
    "        real_start_date = int(min(int(row['STRT_DATE']), row['STAT_OCR_DATE']))\n",
    "        end_date = row['END_DATE']\n",
    "        gb = row['CLSBZ_GB']\n",
    "        if real_start_date >= end_date:\n",
    "            continue\n",
    "        status = dict_status[gb]\n",
    "        prev_start_date, prev_status = curr_history\n",
    "        if status == prev_status:\n",
    "            continue\n",
    "        curr_history = [real_start_date, status]\n",
    "        histories.append(curr_history)\n",
    "    return histories"
   ]
  },
  {
   "cell_type": "code",
   "execution_count": 80,
   "metadata": {},
   "outputs": [],
   "source": [
    "nan_estb = []\n",
    "non_exist_biz_no = []\n",
    "for biz_no in arr_biz_no:\n",
    "    curr_df_summary = good_summary[good_summary['BIZ_NO'] == biz_no]\n",
    "    if len(curr_df_summary) == 0:\n",
    "        non_exist_biz_no.append(biz_no)\n",
    "        continue\n",
    "    if np.isnan(curr_df_summary.ESTB_DATE.item()):\n",
    "        nan_estb.append(biz_no)"
   ]
  },
  {
   "cell_type": "code",
   "execution_count": 81,
   "metadata": {},
   "outputs": [
    {
     "data": {
      "text/html": [
       "<div>\n",
       "<style scoped>\n",
       "    .dataframe tbody tr th:only-of-type {\n",
       "        vertical-align: middle;\n",
       "    }\n",
       "\n",
       "    .dataframe tbody tr th {\n",
       "        vertical-align: top;\n",
       "    }\n",
       "\n",
       "    .dataframe thead th {\n",
       "        text-align: right;\n",
       "    }\n",
       "</style>\n",
       "<table border=\"1\" class=\"dataframe\">\n",
       "  <thead>\n",
       "    <tr style=\"text-align: right;\">\n",
       "      <th></th>\n",
       "      <th>BIZ_NO</th>\n",
       "      <th>BZ_TYP</th>\n",
       "      <th>CMP_SCL</th>\n",
       "      <th>PBCO_GB</th>\n",
       "      <th>PSN_CORP_GB</th>\n",
       "      <th>HDOF_BR_GB</th>\n",
       "      <th>FR_IVST_CORP_YN</th>\n",
       "      <th>VENT_YN</th>\n",
       "      <th>LIST_CD</th>\n",
       "      <th>IND_CD_ORDR</th>\n",
       "      <th>...</th>\n",
       "      <th>NATN_NM</th>\n",
       "      <th>EMP_CNT</th>\n",
       "      <th>IS_LP</th>\n",
       "      <th>IS_LC</th>\n",
       "      <th>IS_LTD</th>\n",
       "      <th>IS_SP</th>\n",
       "      <th>IS_ETC</th>\n",
       "      <th>HAS_HOMEPAGE</th>\n",
       "      <th>CEO_CNT</th>\n",
       "      <th>label</th>\n",
       "    </tr>\n",
       "  </thead>\n",
       "  <tbody>\n",
       "    <tr>\n",
       "      <th>6336</th>\n",
       "      <td>8998701263</td>\n",
       "      <td>M</td>\n",
       "      <td>2</td>\n",
       "      <td>2</td>\n",
       "      <td>1</td>\n",
       "      <td>1</td>\n",
       "      <td>N</td>\n",
       "      <td>N</td>\n",
       "      <td>A307160</td>\n",
       "      <td>10.0</td>\n",
       "      <td>...</td>\n",
       "      <td>NaN</td>\n",
       "      <td>2.0</td>\n",
       "      <td>False</td>\n",
       "      <td>False</td>\n",
       "      <td>True</td>\n",
       "      <td>False</td>\n",
       "      <td>False</td>\n",
       "      <td>False</td>\n",
       "      <td>1.0</td>\n",
       "      <td>1</td>\n",
       "    </tr>\n",
       "  </tbody>\n",
       "</table>\n",
       "<p>1 rows × 30 columns</p>\n",
       "</div>"
      ],
      "text/plain": [
       "          BIZ_NO BZ_TYP  CMP_SCL  PBCO_GB  PSN_CORP_GB  HDOF_BR_GB  \\\n",
       "6336  8998701263      M        2        2            1           1   \n",
       "\n",
       "     FR_IVST_CORP_YN VENT_YN  LIST_CD  IND_CD_ORDR  ...  NATN_NM  EMP_CNT  \\\n",
       "6336               N       N  A307160         10.0  ...      NaN      2.0   \n",
       "\n",
       "      IS_LP  IS_LC IS_LTD  IS_SP  IS_ETC  HAS_HOMEPAGE  CEO_CNT label  \n",
       "6336  False  False   True  False   False         False      1.0     1  \n",
       "\n",
       "[1 rows x 30 columns]"
      ]
     },
     "execution_count": 81,
     "metadata": {},
     "output_type": "execute_result"
    }
   ],
   "source": [
    "curr_df_summary"
   ]
  },
  {
   "cell_type": "code",
   "execution_count": 83,
   "metadata": {},
   "outputs": [],
   "source": [
    "total_history = []\n",
    "for biz_no in arr_biz_no:\n",
    "    if biz_no in nan_estb:\n",
    "        continue\n",
    "    if biz_no in non_exist_biz_no:\n",
    "        continue\n",
    "    histories = history_of_biz(biz_no, good_history, good_summary, gb_to_status)\n",
    "    total_history.append([biz_no, histories])\n",
    "df_history = pd.DataFrame(total_history, columns=['BIZ_NO', 'HISTORY'])"
   ]
  },
  {
   "cell_type": "code",
   "execution_count": 84,
   "metadata": {},
   "outputs": [],
   "source": [
    "df_history.to_csv('data/closed_company_history_track')"
   ]
  },
  {
   "cell_type": "code",
   "execution_count": 85,
   "metadata": {},
   "outputs": [
    {
     "data": {
      "text/plain": [
       "Index(['BIZ_NO', 'HISTORY'], dtype='object')"
      ]
     },
     "execution_count": 85,
     "metadata": {},
     "output_type": "execute_result"
    }
   ],
   "source": [
    "df_history.columns"
   ]
  },
  {
   "cell_type": "code",
   "execution_count": 89,
   "metadata": {},
   "outputs": [],
   "source": [
    "good_summary1 = good_summary.dropna(subset = ['ESTB_DATE']).reset_index(drop=True)\n",
    "mask = good_summary1['BIZ_NO'].isin(non_exist_biz_no)\n",
    "good_summary1 = good_summary1[~mask].reset_index(drop=True)\n",
    "good_summary1.to_csv('data/closed_company_summary_valid.csv')"
   ]
  },
  {
   "cell_type": "code",
   "execution_count": 93,
   "metadata": {},
   "outputs": [
    {
     "data": {
      "text/plain": [
       "Index(['BIZ_NO', 'BZ_TYP', 'CMP_SCL', 'PBCO_GB', 'PSN_CORP_GB', 'HDOF_BR_GB',\n",
       "       'FR_IVST_CORP_YN', 'VENT_YN', 'LIST_CD', 'IND_CD_ORDR', 'IND_CD1',\n",
       "       'IND_CD2', 'IND_CD3', 'PB_ORG_TYP', 'MDSCO_PRTC_YN', 'HDOF_CMP_CD',\n",
       "       'ESTB_DATE', 'ESTB_GB', 'LIST_DATE', 'MN_BIZ_CONT', 'NATN_NM',\n",
       "       'EMP_CNT', 'IS_LP', 'IS_LC', 'IS_LTD', 'IS_SP', 'IS_ETC',\n",
       "       'HAS_HOMEPAGE', 'CEO_CNT', 'label'],\n",
       "      dtype='object')"
      ]
     },
     "execution_count": 93,
     "metadata": {},
     "output_type": "execute_result"
    }
   ],
   "source": [
    "good_summary1.columns"
   ]
  },
  {
   "cell_type": "code",
   "execution_count": 94,
   "metadata": {},
   "outputs": [
    {
     "data": {
      "text/plain": [
       "7"
      ]
     },
     "execution_count": 94,
     "metadata": {},
     "output_type": "execute_result"
    }
   ],
   "source": [
    "len(non_exist_biz_no)"
   ]
  },
  {
   "cell_type": "code",
   "execution_count": 95,
   "metadata": {},
   "outputs": [
    {
     "data": {
      "text/plain": [
       "565"
      ]
     },
     "execution_count": 95,
     "metadata": {},
     "output_type": "execute_result"
    }
   ],
   "source": [
    "len(nan_estb)"
   ]
  },
  {
   "cell_type": "code",
   "execution_count": null,
   "metadata": {},
   "outputs": [],
   "source": []
  }
 ],
 "metadata": {
  "kernelspec": {
   "display_name": "Python 3.10.1 64-bit ('3.10.1')",
   "language": "python",
   "name": "python3"
  },
  "language_info": {
   "codemirror_mode": {
    "name": "ipython",
    "version": 3
   },
   "file_extension": ".py",
   "mimetype": "text/x-python",
   "name": "python",
   "nbconvert_exporter": "python",
   "pygments_lexer": "ipython3",
   "version": "3.10.1"
  },
  "orig_nbformat": 4,
  "vscode": {
   "interpreter": {
    "hash": "2d25af67f7d3c5609ae30e2d1455689bfa9a24b58d5f1549f3b6f18a257d3713"
   }
  }
 },
 "nbformat": 4,
 "nbformat_minor": 2
}
