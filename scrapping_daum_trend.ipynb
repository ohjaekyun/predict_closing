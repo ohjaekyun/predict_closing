{
 "cells": [
  {
   "cell_type": "code",
   "execution_count": 16,
   "metadata": {},
   "outputs": [],
   "source": [
    "import requests\n",
    "import pandas as pd\n",
    "import numpy as np\n",
    "from bs4 import BeautifulSoup\n",
    "from selenium import webdriver"
   ]
  },
  {
   "cell_type": "code",
   "execution_count": 19,
   "metadata": {},
   "outputs": [],
   "source": [
    "from selenium.webdriver.chrome.options import Options\n",
    "\n",
    "driver = webdriver.Chrome('/usr/local/bin/chromedriver')\n"
   ]
  },
  {
   "cell_type": "code",
   "execution_count": 22,
   "metadata": {},
   "outputs": [],
   "source": [
    "url = 'https://datatrend.kakao.com/result?q=%EC%97%90%EC%9E%87%ED%8D%BC%EC%84%BC%ED%8A%B8&from=20180101&to=20221120'\n",
    "resp = requests.get(url)\n",
    "driver.get(url)"
   ]
  },
  {
   "cell_type": "code",
   "execution_count": 23,
   "metadata": {},
   "outputs": [],
   "source": [
    "from selenium.webdriver.support.select import Select\n",
    "from selenium.webdriver.common.by import By\n",
    "from selenium.webdriver.common.keys import Keys"
   ]
  },
  {
   "cell_type": "code",
   "execution_count": 34,
   "metadata": {},
   "outputs": [
    {
     "data": {
      "text/plain": [
       "[]"
      ]
     },
     "execution_count": 34,
     "metadata": {},
     "output_type": "execute_result"
    }
   ],
   "source": [
    "xp = driver.find_elements(By.XPATH, f'/html/body/div/div/div/main/article/div[1]/section[1]/div/div/div/svg/g[5]/g[1]')\n",
    "xp\n"
   ]
  },
  {
   "cell_type": "code",
   "execution_count": 45,
   "metadata": {},
   "outputs": [],
   "source": [
    "df = pd.DataFrame(columns=['name', 'age', 'CMP_NM', 'unpaid_amount'])"
   ]
  },
  {
   "cell_type": "code",
   "execution_count": 52,
   "metadata": {},
   "outputs": [],
   "source": [
    "columns = ['name', 'age', 'CMP_NM', 'unpaid_amount']\n",
    "for i in range(8):\n",
    "    if i > 0:\n",
    "        xp = driver.find_elements(By.XPATH, f'//*[@id=\"highcharts-xoef712-408\"]/svg/g[5]/g[1]/path[1]')\n",
    "        driver.implicitly_wait(2)\n",
    "        try:\n",
    "            xp[0].click()\n",
    "        except:\n",
    "            break\n",
    "        driver.implicitly_wait(1)\n",
    "    for j in range(1, 101):\n",
    "        try:\n",
    "            row = driver.find_elements(By.XPATH, f'//*[@id=\"frm\"]/div[4]/div/table/tbody/tr[{j}]')\n",
    "            str_row = str(row[0].text)\n",
    "            tokens = str_row.split(' ')\n",
    "            len_tokens = len(tokens)\n",
    "            kor_name = tokens[0]\n",
    "            kor_age = tokens[1]\n",
    "            kor_company_name = tokens[2]\n",
    "            unpaid_amount = tokens[len_tokens - 1]\n",
    "            df_row = pd.DataFrame(np.zeros([1, len(columns)]), columns=columns)\n",
    "            df_row['name'] = kor_name\n",
    "            df_row['age'] = kor_age\n",
    "            df_row['CMP_NM'] = kor_company_name\n",
    "            df_row['unpaid_amount'] = unpaid_amount\n",
    "            df = pd.concat([df, df_row], ignore_index=True)\n",
    "        except:\n",
    "            pass"
   ]
  },
  {
   "cell_type": "code",
   "execution_count": 53,
   "metadata": {},
   "outputs": [],
   "source": [
    "df.to_csv('unpaid_company.csv')"
   ]
  }
 ],
 "metadata": {
  "kernelspec": {
   "display_name": "Python 3.10.1 64-bit ('eight3.10.1')",
   "language": "python",
   "name": "python3"
  },
  "language_info": {
   "codemirror_mode": {
    "name": "ipython",
    "version": 3
   },
   "file_extension": ".py",
   "mimetype": "text/x-python",
   "name": "python",
   "nbconvert_exporter": "python",
   "pygments_lexer": "ipython3",
   "version": "3.10.1"
  },
  "orig_nbformat": 4,
  "vscode": {
   "interpreter": {
    "hash": "dbdcdc087a6b5cd7c13a3d59007cddafd3050c03791513cb478faf78e58fd6da"
   }
  }
 },
 "nbformat": 4,
 "nbformat_minor": 2
}
