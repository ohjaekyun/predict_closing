{
 "cells": [
  {
   "cell_type": "code",
   "execution_count": 1,
   "metadata": {},
   "outputs": [],
   "source": [
    "import requests\n",
    "import pandas as pd\n",
    "import numpy as np\n",
    "from bs4 import BeautifulSoup\n",
    "from selenium import webdriver"
   ]
  },
  {
   "cell_type": "code",
   "execution_count": 10,
   "metadata": {},
   "outputs": [],
   "source": [
    "url = 'https://www.moel.go.kr/info/defaulter/defaulterList.do'\n",
    "resp = requests.get(url)"
   ]
  },
  {
   "cell_type": "code",
   "execution_count": 11,
   "metadata": {},
   "outputs": [
    {
     "data": {
      "text/plain": [
       "'/Users/jaegyoonoh/.pyenv/versions/3.10.1/lib/python3.10/site-packages/chromedriver_autoinstaller/106/chromedriver'"
      ]
     },
     "execution_count": 11,
     "metadata": {},
     "output_type": "execute_result"
    }
   ],
   "source": [
    "import chromedriver_autoinstaller\n",
    "\n",
    "\n",
    "chromedriver_autoinstaller.install()  # Check if the current version of chromedriver exists\n",
    "                                      # and if it doesn't exist, download it automatically,\n",
    "                                      # then add chromedriver to path"
   ]
  },
  {
   "cell_type": "code",
   "execution_count": 12,
   "metadata": {},
   "outputs": [],
   "source": [
    "from selenium.webdriver.chrome.options import Options\n",
    "\n",
    "driver = webdriver.Chrome()"
   ]
  },
  {
   "cell_type": "code",
   "execution_count": 13,
   "metadata": {},
   "outputs": [],
   "source": [
    "driver.get(url)"
   ]
  },
  {
   "cell_type": "code",
   "execution_count": 14,
   "metadata": {},
   "outputs": [],
   "source": [
    "from selenium.webdriver.support.select import Select\n",
    "from selenium.webdriver.common.by import By\n",
    "select_menu=(driver.find_elements(By.NAME, 'pageUnit'))\n"
   ]
  },
  {
   "cell_type": "code",
   "execution_count": 15,
   "metadata": {},
   "outputs": [],
   "source": [
    "select = Select(select_menu[0])"
   ]
  },
  {
   "cell_type": "code",
   "execution_count": 16,
   "metadata": {},
   "outputs": [],
   "source": [
    "from selenium.webdriver.common.keys import Keys\n",
    "select.select_by_value('100')\n",
    "driver.find_elements(By.CLASS_NAME, 'btn_arrears')[0].click()\n"
   ]
  },
  {
   "cell_type": "code",
   "execution_count": 17,
   "metadata": {},
   "outputs": [],
   "source": [
    "pages = driver.find_elements(By.CLASS_NAME, 'page')"
   ]
  },
  {
   "cell_type": "code",
   "execution_count": 45,
   "metadata": {},
   "outputs": [],
   "source": [
    "df = pd.DataFrame(columns=['name', 'age', 'CMP_NM', 'unpaid_amount'])"
   ]
  },
  {
   "cell_type": "code",
   "execution_count": 52,
   "metadata": {},
   "outputs": [],
   "source": [
    "columns = ['name', 'age', 'CMP_NM', 'unpaid_amount']\n",
    "for i in range(8):\n",
    "    if i > 0:\n",
    "        xp = driver.find_elements(By.XPATH, f'//*[@id=\"frm\"]/div[5]/a[{i}]')\n",
    "        driver.implicitly_wait(2)\n",
    "        try:\n",
    "            xp[0].click()\n",
    "        except:\n",
    "            break\n",
    "        driver.implicitly_wait(1)\n",
    "    for j in range(1, 101):\n",
    "        try:\n",
    "            row = driver.find_elements(By.XPATH, f'//*[@id=\"frm\"]/div[4]/div/table/tbody/tr[{j}]')\n",
    "            str_row = str(row[0].text)\n",
    "            tokens = str_row.split(' ')\n",
    "            len_tokens = len(tokens)\n",
    "            kor_name = tokens[0]\n",
    "            kor_age = tokens[1]\n",
    "            kor_company_name = tokens[2]\n",
    "            unpaid_amount = tokens[len_tokens - 1]\n",
    "            df_row = pd.DataFrame(np.zeros([1, len(columns)]), columns=columns)\n",
    "            df_row['name'] = kor_name\n",
    "            df_row['age'] = kor_age\n",
    "            df_row['CMP_NM'] = kor_company_name\n",
    "            df_row['unpaid_amount'] = unpaid_amount\n",
    "            df = pd.concat([df, df_row], ignore_index=True)\n",
    "        except:\n",
    "            pass"
   ]
  },
  {
   "cell_type": "code",
   "execution_count": 53,
   "metadata": {},
   "outputs": [],
   "source": [
    "df.to_csv('unpaid_company.csv')"
   ]
  }
 ],
 "metadata": {
  "kernelspec": {
   "display_name": "Python 3.10.1 64-bit ('3.10.1')",
   "language": "python",
   "name": "python3"
  },
  "language_info": {
   "codemirror_mode": {
    "name": "ipython",
    "version": 3
   },
   "file_extension": ".py",
   "mimetype": "text/x-python",
   "name": "python",
   "nbconvert_exporter": "python",
   "pygments_lexer": "ipython3",
   "version": "3.10.1"
  },
  "orig_nbformat": 4,
  "vscode": {
   "interpreter": {
    "hash": "2d25af67f7d3c5609ae30e2d1455689bfa9a24b58d5f1549f3b6f18a257d3713"
   }
  }
 },
 "nbformat": 4,
 "nbformat_minor": 2
}
